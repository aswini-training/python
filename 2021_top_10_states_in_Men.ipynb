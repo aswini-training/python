{
  "nbformat": 4,
  "nbformat_minor": 0,
  "metadata": {
    "colab": {
      "provenance": [],
      "authorship_tag": "ABX9TyOTGzTbW7CI4RV6BkgbpDKQ",
      "include_colab_link": true
    },
    "kernelspec": {
      "name": "python3",
      "display_name": "Python 3"
    },
    "language_info": {
      "name": "python"
    }
  },
  "cells": [
    {
      "cell_type": "markdown",
      "metadata": {
        "id": "view-in-github",
        "colab_type": "text"
      },
      "source": [
        "<a href=\"https://colab.research.google.com/github/aswini-training/python/blob/main/2021_top_10_states_in_Men.ipynb\" target=\"_parent\"><img src=\"https://colab.research.google.com/assets/colab-badge.svg\" alt=\"Open In Colab\"/></a>"
      ]
    },
    {
      "cell_type": "code",
      "execution_count": 1,
      "metadata": {
        "colab": {
          "base_uri": "https://localhost:8080/"
        },
        "id": "_Y65RNJkAyFU",
        "outputId": "4eb4cea7-7bd2-465a-e032-802f6725fc96"
      },
      "outputs": [
        {
          "output_type": "stream",
          "name": "stdout",
          "text": [
            "Mounted at /content/drive\n"
          ]
        },
        {
          "output_type": "stream",
          "name": "stderr",
          "text": [
            "<ipython-input-1-00cc2af6b9e7>:7: DtypeWarning: Columns (33,35,38) have mixed types. Specify dtype option on import or set low_memory=False.\n",
            "  df = pd.read_csv(\"/content/drive/MyDrive/dataset/dataset_csv/dataset-powerlifting-csv/openpowerlifting-2021-12-10-b420db66.csv\")\n"
          ]
        },
        {
          "output_type": "stream",
          "name": "stdout",
          "text": [
            "Top 10 States for Men in 2021:\n",
            "State\n",
            "CA    3384\n",
            "TX    3037\n",
            "FL    1781\n",
            "OH    1529\n",
            "PA    1183\n",
            "VA    1156\n",
            "NC    1109\n",
            "NY    1033\n",
            "GA     935\n",
            "MO     893\n",
            "dtype: int64\n"
          ]
        },
        {
          "output_type": "stream",
          "name": "stderr",
          "text": [
            "<ipython-input-1-00cc2af6b9e7>:10: SettingWithCopyWarning: \n",
            "A value is trying to be set on a copy of a slice from a DataFrame.\n",
            "Try using .loc[row_indexer,col_indexer] = value instead\n",
            "\n",
            "See the caveats in the documentation: https://pandas.pydata.org/pandas-docs/stable/user_guide/indexing.html#returning-a-view-versus-a-copy\n",
            "  men_df['year'] = pd.DatetimeIndex(men_df['Date']).year\n"
          ]
        }
      ],
      "source": [
        "#Top 10 states for Men in year 2021 (Use Custom Function)\n",
        "import pandas as pd\n",
        "import numpy as np\n",
        "from warnings import filterwarnings\n",
        "from google.colab import drive\n",
        "drive.mount('/content/drive')\n",
        "df = pd.read_csv(\"/content/drive/MyDrive/dataset/dataset_csv/dataset-powerlifting-csv/openpowerlifting-2021-12-10-b420db66.csv\")\n",
        "men_df = df[df['Sex'] == 'M']\n",
        "#extracting year from Date column.\n",
        "men_df['year'] = pd.DatetimeIndex(men_df['Date']).year\n",
        "#print(\"Get the year from the datetime column:\\n\", df)\n",
        "men_by_state = men_df.groupby(['State', 'year' ]).size()\n",
        "men_2021 = men_by_state.loc[:, 2021]\n",
        "sorted_states = men_2021.sort_values(ascending=False)\n",
        "top_10_states = sorted_states.head(10)\n",
        "print(\"Top 10 States for Men in 2021:\")\n",
        "print(top_10_states)\n",
        "\n",
        "\n"
      ]
    }
  ]
}