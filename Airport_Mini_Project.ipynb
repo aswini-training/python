{
  "nbformat": 4,
  "nbformat_minor": 0,
  "metadata": {
    "colab": {
      "provenance": [],
      "authorship_tag": "ABX9TyPiNKUk3Ez1uIMNQZ9YeRT2",
      "include_colab_link": true
    },
    "kernelspec": {
      "name": "python3",
      "display_name": "Python 3"
    },
    "language_info": {
      "name": "python"
    }
  },
  "cells": [
    {
      "cell_type": "markdown",
      "metadata": {
        "id": "view-in-github",
        "colab_type": "text"
      },
      "source": [
        "<a href=\"https://colab.research.google.com/github/aswini-training/python/blob/main/Airport_Mini_Project.ipynb\" target=\"_parent\"><img src=\"https://colab.research.google.com/assets/colab-badge.svg\" alt=\"Open In Colab\"/></a>"
      ]
    },
    {
      "cell_type": "code",
      "execution_count": null,
      "metadata": {
        "colab": {
          "base_uri": "https://localhost:8080/"
        },
        "id": "f790QZt-KR_k",
        "outputId": "7d03a3fc-302c-461d-afc3-7fc60839299c"
      },
      "outputs": [
        {
          "output_type": "stream",
          "name": "stdout",
          "text": [
            "Mounted at /content/drive\n",
            "   Airport_ID                          Name         City           Country  \\\n",
            "0           1                Goroka Airport       Goroka  Papua New Guinea   \n",
            "1           2                Madang Airport       Madang  Papua New Guinea   \n",
            "2           3  Mount Hagen Kagamuga Airport  Mount Hagen  Papua New Guinea   \n",
            "3           4                Nadzab Airport       Nadzab  Papua New Guinea   \n",
            "\n",
            "  IATA  ICAO  Latitude   Longitude  Altitude Timezone DST  \\\n",
            "0  GKA  AYGA -6.081690  145.391998      5282       10   U   \n",
            "1  MAG  AYMD -5.207080  145.789002        20       10   U   \n",
            "2  HGU  AYMH -5.826790  144.296005      5388       10   U   \n",
            "3  LAE  AYNZ -6.569803  146.725977       239       10   U   \n",
            "\n",
            "   Tz Database Timezone     Type       Source  \n",
            "0  Pacific/Port_Moresby  airport  OurAirports  \n",
            "1  Pacific/Port_Moresby  airport  OurAirports  \n",
            "2  Pacific/Port_Moresby  airport  OurAirports  \n",
            "3  Pacific/Port_Moresby  airport  OurAirports  \n"
          ]
        }
      ],
      "source": [
        "import pandas as pd\n",
        "import numpy as np\n",
        "import seaborn as sns\n",
        "import matplotlib.pyplot as plt\n",
        "from google.colab import drive\n",
        "drive.mount('/content/drive')\n",
        "df=pd.read_csv('/content/drive/MyDrive/airports-extended.csv')\n",
        "df.columns=['Airport_ID','Name','City','Country','IATA','ICAO','Latitude','Longitude','Altitude','Timezone','DST','Tz Database Timezone','Type','Source']\n",
        "print(df.head(4))\n"
      ]
    },
    {
      "cell_type": "code",
      "source": [
        "#Q1: Top 20 highest altitude airports in the world. Choose only “type” with “airport”\n",
        "#Output:airport_id, name, city, country, altitude, rank\n",
        "df_altitude=df[df['Type']=='airport']\n",
        "top_20_airports = df_altitude.nlargest(20, 'Altitude').reset_index()\n",
        "top_20_airports['Rank'] = top_20_airports.index + 1 # Adding a rank column based on the index\n",
        "output = top_20_airports[['Airport_ID', 'Name', 'City', 'Country', 'Altitude', 'Rank']]\n",
        "print(output)\n"
      ],
      "metadata": {
        "colab": {
          "base_uri": "https://localhost:8080/"
        },
        "id": "uagkEPwjdjjN",
        "outputId": "8728caa0-4a0d-450d-d3ba-f8eda06d2b4e"
      },
      "execution_count": null,
      "outputs": [
        {
          "output_type": "stream",
          "name": "stdout",
          "text": [
            "    Airport_ID                                    Name         City  \\\n",
            "0         9310                 Daocheng Yading Airport     Daocheng   \n",
            "1         6396                    Qamdo Bangda Airport       Bangda   \n",
            "2         8921                        Kangding Airport     Kangding   \n",
            "3         7932                     Ngari Gunsa Airport    Shiquanhe   \n",
            "4         2762           El Alto International Airport       La Paz   \n",
            "5         2764           Capitan Nicolas Rojas Airport       Potosi   \n",
            "6         7894                    Yushu Batang Airport        Yushu   \n",
            "7         8969                      Copacabana Airport   Copacabana   \n",
            "8         2792  Inca Manco Capac International Airport      Juliaca   \n",
            "9        13483                     Golog Maqin Airport        Golog   \n",
            "10        7766                      Syangboche Airport   Syangboche   \n",
            "11        2763                    Juan Mendoza Airport        Oruro   \n",
            "12        4097                   Lhasa Gonggar Airport        Lhasa   \n",
            "13       10943                        Hongyuan Airport        Ngawa   \n",
            "14        2464                       La Quiaca Airport    Laboulaye   \n",
            "15        4301               Jiuzhai Huanglong Airport   Jiuzhaigou   \n",
            "16        2787                     Andahuaylas Airport  Andahuaylas   \n",
            "17        7313                           Uyuni Airport        Uyuni   \n",
            "18        2791                 Francisco Carle Airport        Jauja   \n",
            "19        4174                          Manang Airport       Manang   \n",
            "\n",
            "      Country  Altitude  Rank  \n",
            "0       China     14472     1  \n",
            "1       China     14219     2  \n",
            "2       China     14042     3  \n",
            "3       China     14022     4  \n",
            "4     Bolivia     13355     5  \n",
            "5     Bolivia     12913     6  \n",
            "6       China     12816     7  \n",
            "7     Bolivia     12591     8  \n",
            "8        Peru     12552     9  \n",
            "9       China     12426    10  \n",
            "10      Nepal     12400    11  \n",
            "11    Bolivia     12152    12  \n",
            "12      China     11713    13  \n",
            "13      China     11600    14  \n",
            "14  Argentina     11414    15  \n",
            "15      China     11327    16  \n",
            "16       Peru     11300    17  \n",
            "17    Bolivia     11136    18  \n",
            "18       Peru     11034    19  \n",
            "19      Nepal     11001    20  \n"
          ]
        }
      ]
    },
    {
      "cell_type": "code",
      "source": [
        "#Q2: Top 20 countries that have the highest total # of airports.\n",
        "#Output:country, total_airports, rank\n",
        "from tabulate import tabulate\n",
        "df_airport=df[df['Type']=='airport']\n",
        "countries_airport = df.groupby('Country').size()\n",
        "top_20_countries = countries_airport.nlargest(20).reset_index(name='Total_airports')\n",
        "top_20_countries['Rank'] = range(1, 21)\n",
        "print(tabulate(top_20_countries.head(20),headers= ['Country','Total Airports','Rank'],tablefmt='grid'))\n"
      ],
      "metadata": {
        "colab": {
          "base_uri": "https://localhost:8080/"
        },
        "id": "0jtAcNAoolzm",
        "outputId": "b895b5ed-26a9-4b05-db3d-ed4164b7da56"
      },
      "execution_count": null,
      "outputs": [
        {
          "output_type": "stream",
          "name": "stdout",
          "text": [
            "+----+----------------+------------------+--------+\n",
            "|    | Country        |   Total Airports |   Rank |\n",
            "+====+================+==================+========+\n",
            "|  0 | United States  |             2708 |      1 |\n",
            "+----+----------------+------------------+--------+\n",
            "|  1 | Germany        |              820 |      2 |\n",
            "+----+----------------+------------------+--------+\n",
            "|  2 | Canada         |              640 |      3 |\n",
            "+----+----------------+------------------+--------+\n",
            "|  3 | France         |              454 |      4 |\n",
            "+----+----------------+------------------+--------+\n",
            "|  4 | Australia      |              445 |      5 |\n",
            "+----+----------------+------------------+--------+\n",
            "|  5 | Russia         |              427 |      6 |\n",
            "+----+----------------+------------------+--------+\n",
            "|  6 | China          |              418 |      7 |\n",
            "+----+----------------+------------------+--------+\n",
            "|  7 | United Kingdom |              371 |      8 |\n",
            "+----+----------------+------------------+--------+\n",
            "|  8 | Brazil         |              288 |      9 |\n",
            "+----+----------------+------------------+--------+\n",
            "|  9 | Japan          |              247 |     10 |\n",
            "+----+----------------+------------------+--------+\n",
            "| 10 | India          |              223 |     11 |\n",
            "+----+----------------+------------------+--------+\n",
            "| 11 | Indonesia      |              189 |     12 |\n",
            "+----+----------------+------------------+--------+\n",
            "| 12 | Sweden         |              183 |     13 |\n",
            "+----+----------------+------------------+--------+\n",
            "| 13 | Italy          |              178 |     14 |\n",
            "+----+----------------+------------------+--------+\n",
            "| 14 | Spain          |              145 |     15 |\n",
            "+----+----------------+------------------+--------+\n",
            "| 15 | South Africa   |              121 |     16 |\n",
            "+----+----------------+------------------+--------+\n",
            "| 16 | Netherlands    |              117 |     17 |\n",
            "+----+----------------+------------------+--------+\n",
            "| 17 | Taiwan         |              113 |     18 |\n",
            "+----+----------------+------------------+--------+\n",
            "| 18 | Switzerland    |              109 |     19 |\n",
            "+----+----------------+------------------+--------+\n",
            "| 19 | Argentina      |              108 |     20 |\n",
            "+----+----------------+------------------+--------+\n"
          ]
        }
      ]
    },
    {
      "cell_type": "code",
      "source": [
        "#Q3:Top 20 cities that have the highest total # of airports. (Two cities from different countries can have the same name, and you have to make sure the numbers are not messed up due to that!)\n",
        "#Output:city, total_airports, rank\n",
        "\n",
        "city_countries_airport = df_airport.groupby(['City','Country'])['Name'].count()\n",
        "top_20_cities = city_countries_airport.nlargest(20).reset_index(name='Total_airports')\n",
        "top_20_cities['Rank'] = range(1, 21)\n",
        "output = top_20_cities[['City', 'Total_airports', 'Rank']]\n",
        "print(tabulate(output.head(20),headers= ['City','Total Airports','Rank'],tablefmt='grid'))\n"
      ],
      "metadata": {
        "colab": {
          "base_uri": "https://localhost:8080/"
        },
        "id": "YrIKoJRc6FPY",
        "outputId": "6bb7bc89-1746-4a46-9512-5bd6cb55d841"
      },
      "execution_count": null,
      "outputs": [
        {
          "output_type": "stream",
          "name": "stdout",
          "text": [
            "+----+--------------+------------------+--------+\n",
            "|    | City         |   Total Airports |   Rank |\n",
            "+====+==============+==================+========+\n",
            "|  0 | Columbus     |                8 |      1 |\n",
            "+----+--------------+------------------+--------+\n",
            "|  1 | New York     |                8 |      2 |\n",
            "+----+--------------+------------------+--------+\n",
            "|  2 | London       |                7 |      3 |\n",
            "+----+--------------+------------------+--------+\n",
            "|  3 | Tokyo        |                7 |      4 |\n",
            "+----+--------------+------------------+--------+\n",
            "|  4 | Atlanta      |                6 |      5 |\n",
            "+----+--------------+------------------+--------+\n",
            "|  5 | Beijing      |                6 |      6 |\n",
            "+----+--------------+------------------+--------+\n",
            "|  6 | Houston      |                6 |      7 |\n",
            "+----+--------------+------------------+--------+\n",
            "|  7 | Istanbul     |                6 |      8 |\n",
            "+----+--------------+------------------+--------+\n",
            "|  8 | Jacksonville |                6 |      9 |\n",
            "+----+--------------+------------------+--------+\n",
            "|  9 | Moscow       |                6 |     10 |\n",
            "+----+--------------+------------------+--------+\n",
            "| 10 | Toronto      |                6 |     11 |\n",
            "+----+--------------+------------------+--------+\n",
            "| 11 | Chicago      |                5 |     12 |\n",
            "+----+--------------+------------------+--------+\n",
            "| 12 | Greenville   |                5 |     13 |\n",
            "+----+--------------+------------------+--------+\n",
            "| 13 | Hong Kong    |                5 |     14 |\n",
            "+----+--------------+------------------+--------+\n",
            "| 14 | Izmir        |                5 |     15 |\n",
            "+----+--------------+------------------+--------+\n",
            "| 15 | Paris        |                5 |     16 |\n",
            "+----+--------------+------------------+--------+\n",
            "| 16 | Vancouver    |                5 |     17 |\n",
            "+----+--------------+------------------+--------+\n",
            "| 17 | Anchorage    |                4 |     18 |\n",
            "+----+--------------+------------------+--------+\n",
            "| 18 | Ankara       |                4 |     19 |\n",
            "+----+--------------+------------------+--------+\n",
            "| 19 | Atmautluak   |                4 |     20 |\n",
            "+----+--------------+------------------+--------+\n"
          ]
        }
      ]
    },
    {
      "cell_type": "code",
      "source": [
        "#Q4: Pair of cities that have the same name, but from two different countries.\n",
        "#Output:city_a, country_a, city_b, country_b\n",
        "\n",
        "# Performing the self join on the 'City' column where the 'Country' column is different\n",
        "pairs = df.merge(df, on='City', suffixes=('_a', '_b'))\n",
        "\n",
        "# joined DataFrame to only include pairs where the countries are different\n",
        "pairs = pairs[pairs['Country_a'] != pairs['Country_b']]\n",
        "\n",
        "# Droping duplicate pairs to ensure unique city-country combinations\n",
        "pairs = pairs[['City', 'Country_a', 'Country_b']].drop_duplicates()\n",
        "\n",
        "# Reformat the DataFrame to have the columns city_a, country_a, city_b, country_b\n",
        "output_df = pairs.rename(columns={'City': 'city_a', 'Country_a': 'country_a', 'Country_b': 'country_b'})\n",
        "\n",
        "# Adding a column 'city_b' which is just a duplicate of 'city_a' since they have the same city names\n",
        "output_df['city_b'] = output_df['city_a']\n",
        "print(output_df[['city_a', 'country_a', 'city_b', 'country_b']])"
      ],
      "metadata": {
        "colab": {
          "base_uri": "https://localhost:8080/"
        },
        "id": "B22uhbUHqSKy",
        "outputId": "a7f64429-7f87-4aea-d46f-2a71d3411145"
      },
      "execution_count": null,
      "outputs": [
        {
          "output_type": "stream",
          "name": "stdout",
          "text": [
            "           city_a      country_a      city_b      country_b\n",
            "71      Princeton         Canada   Princeton  United States\n",
            "75      Princeton  United States   Princeton         Canada\n",
            "115        Eureka         Canada      Eureka  United States\n",
            "116        Eureka  United States      Eureka         Canada\n",
            "134      Kingston         Canada    Kingston        Jamaica\n",
            "...           ...            ...         ...            ...\n",
            "40482         NaN          China         NaN      Australia\n",
            "40512         NaN          China         NaN       Mongolia\n",
            "40513         NaN          China         NaN        Bahamas\n",
            "41631  San Miguel    El Salvador  San Miguel         Panama\n",
            "41632  San Miguel         Panama  San Miguel    El Salvador\n",
            "\n",
            "[628 rows x 4 columns]\n"
          ]
        }
      ]
    },
    {
      "cell_type": "code",
      "source": [
        "#Part 2:\n",
        "#Q1:In the year 2009, print Top 10 cities in the USA that received maximum # inbound flights.\n",
        "#Output:city,total_inbound_flights,rank\n",
        "import pandas as pd\n",
        "import numpy as np\n",
        "from google.colab import drive\n",
        "drive.mount('/content/drive')\n",
        "df=pd.read_csv('/content/drive/MyDrive/Airports2 (1).csv')\n",
        "df['Fly_date'] = pd.to_datetime(df['Fly_date'])\n",
        "df_2009 = df[df['Fly_date'].dt.year == 2009]\n",
        "# Splitting the origin_city column to get a city name. Then Group by 'Destination_city' and sum the 'Flights' column\n",
        "df_2009['City'] = df_2009['Destination_city'].str.split(\",\").str[0]\n",
        "# Group by 'Destination_city' and sum the 'Flights' column\n",
        "city_flights = df_2009.groupby('City')['Flights'].sum().reset_index()\n",
        "\n",
        "# Sort by 'Flights' in descending order\n",
        "top_cities = city_flights.sort_values(by='Flights', ascending=False).head(10)\n",
        "# Adding a rank column\n",
        "top_cities['rank'] = range(1, 11)\n",
        "\n",
        "# Renaming columns to match the output specification\n",
        "top_cities.rename(columns={'City': 'city', 'Flights': 'total_inbound_flights'}, inplace=True)\n",
        "\n",
        "# Selecting only the specified columns\n",
        "top_cities_inbound = top_cities[['city', 'total_inbound_flights', 'rank']]\n",
        "print(top_cities_inbound)"
      ],
      "metadata": {
        "colab": {
          "base_uri": "https://localhost:8080/"
        },
        "id": "yzKPefMqrzDC",
        "outputId": "aff5ccc2-b2ce-4228-dba2-b0b0b85d2387"
      },
      "execution_count": null,
      "outputs": [
        {
          "output_type": "stream",
          "name": "stdout",
          "text": [
            "Drive already mounted at /content/drive; to attempt to forcibly remount, call drive.mount(\"/content/drive\", force_remount=True).\n",
            "             city  total_inbound_flights  rank\n",
            "67        Chicago                 417297     1\n",
            "18        Atlanta                 396603     2\n",
            "81         Dallas                 316265     3\n",
            "242      New York                 278206     4\n",
            "152       Houston                 250030     5\n",
            "365    Washington                 238744     6\n",
            "63      Charlotte                 199700     7\n",
            "203   Los Angeles                 192676     8\n",
            "86        Detroit                 183655     9\n",
            "265  Philadelphia                 181645    10\n"
          ]
        },
        {
          "output_type": "stream",
          "name": "stderr",
          "text": [
            "<ipython-input-40-5a859c855ced>:12: SettingWithCopyWarning: \n",
            "A value is trying to be set on a copy of a slice from a DataFrame.\n",
            "Try using .loc[row_indexer,col_indexer] = value instead\n",
            "\n",
            "See the caveats in the documentation: https://pandas.pydata.org/pandas-docs/stable/user_guide/indexing.html#returning-a-view-versus-a-copy\n",
            "  df_2009['City'] = df_2009['Destination_city'].str.split(\",\").str[0]\n"
          ]
        }
      ]
    },
    {
      "cell_type": "code",
      "source": [
        "#Q2:In the year 2009, print Top 10 cities in the USA that received maximum # outbound flights.\n",
        "#Output:city,total_outbound_flights,rank\n",
        "\n",
        "df_2009 = df[df['Fly_date'].dt.year == 2009]\n",
        "# Splitting the origin_city column to get a city name. Then Group by 'Destination_city' and sum the 'Flights' column\n",
        "df_2009['City'] = df_2009['Origin_city'].str.split(\",\").str[0]\n",
        "city_flights = df_2009.groupby('City')['Flights'].sum().reset_index()\n",
        "top_cities = city_flights.sort_values(by='Flights', ascending=False).head(10)\n",
        "\n",
        "# Adding a rank column\n",
        "top_cities['rank'] = range(1, 11)\n",
        "\n",
        "# Renaming columns to match the output specification\n",
        "top_cities.rename(columns={'City': 'city', 'Flights': 'total_outbound_flights'}, inplace=True)\n",
        "\n",
        "# Selecting only the specified columns\n",
        "top_cities_outbound = top_cities[['city', 'total_outbound_flights', 'rank']]\n",
        "print(top_cities_outbound)"
      ],
      "metadata": {
        "colab": {
          "base_uri": "https://localhost:8080/"
        },
        "id": "R9VWbyoIPEGf",
        "outputId": "8abcf8df-0556-4aec-c9ee-1747cc5a0063"
      },
      "execution_count": null,
      "outputs": [
        {
          "output_type": "stream",
          "name": "stdout",
          "text": [
            "             city  total_outbound_flights  rank\n",
            "67        Chicago                  416742     1\n",
            "18        Atlanta                  397112     2\n",
            "80         Dallas                  316739     3\n",
            "241      New York                  278351     4\n",
            "151       Houston                  249285     5\n",
            "364    Washington                  238958     6\n",
            "63      Charlotte                  200403     7\n",
            "202   Los Angeles                  193248     8\n",
            "85        Detroit                  184087     9\n",
            "265  Philadelphia                  181575    10\n"
          ]
        },
        {
          "output_type": "stream",
          "name": "stderr",
          "text": [
            "<ipython-input-41-1b6344728b96>:6: SettingWithCopyWarning: \n",
            "A value is trying to be set on a copy of a slice from a DataFrame.\n",
            "Try using .loc[row_indexer,col_indexer] = value instead\n",
            "\n",
            "See the caveats in the documentation: https://pandas.pydata.org/pandas-docs/stable/user_guide/indexing.html#returning-a-view-versus-a-copy\n",
            "  df_2009['City'] = df_2009['Origin_city'].str.split(\",\").str[0]\n"
          ]
        }
      ]
    },
    {
      "cell_type": "code",
      "source": [
        "#Q3: In between 1999-2009, print Top 10 cities in the USA that received maximum # outbound flights.\n",
        "#Output:city,total_outbound_flights, rank\n",
        "\n",
        "df_filtered = df[(df['Fly_date'].dt.year >= 1999) & (df['Fly_date'].dt.year <= 2009)]\n",
        "\n",
        "#Group by for outbound flights and sum the 'Flights' column\n",
        "city_outbound_flights = df_filtered.groupby('Origin_city')['Flights'].sum().reset_index()\n",
        "\n",
        "# Using nlargest to get the top 10 cities with the most outbound flights\n",
        "top_outbound_cities = city_outbound_flights.nlargest(10, 'Flights')\n",
        "# Creating a rank column\n",
        "top_outbound_cities['rank'] = range(1, 11)\n",
        "# Renaming columns to match the output specification to make sure there is no other additional columns in dataframe.\n",
        "top_outbound_cities.rename(columns={'Origin_city': 'city', 'Flights': 'total_outbound_flights'}, inplace=True)\n",
        "\n",
        "# Selected only the specified columns for the output\n",
        "top_outbound_cities = top_outbound_cities[['city', 'total_outbound_flights', 'rank']]\n",
        "print(top_outbound_cities)"
      ],
      "metadata": {
        "colab": {
          "base_uri": "https://localhost:8080/"
        },
        "id": "BSNJVfxuP0bN",
        "outputId": "2eeb5130-7ba5-49c5-ecca-9a112ecd3e90"
      },
      "execution_count": null,
      "outputs": [
        {
          "output_type": "stream",
          "name": "stdout",
          "text": [
            "                city  total_outbound_flights  rank\n",
            "93       Chicago, IL                 4997322     1\n",
            "28       Atlanta, GA                 4177480     2\n",
            "115       Dallas, TX                 3938032     3\n",
            "217      Houston, TX                 2750620     4\n",
            "342     New York, NY                 2750398     5\n",
            "509   Washington, DC                 2432099     6\n",
            "286  Los Angeles, CA                 2412159     7\n",
            "125      Detroit, MI                 2215283     8\n",
            "313  Minneapolis, MN                 2080578     9\n",
            "371      Phoenix, AZ                 1983949    10\n"
          ]
        }
      ]
    },
    {
      "cell_type": "code",
      "source": [
        "#Q4: In between 1999-2009, the Top 10 cities in the USA carry the maximum total # of passengers on outbound flights. The city column in the output will also have its state (For example San Francisco, CA).\n",
        "#Output:city,total_num_passengers,rank\n",
        "df_filtered = df[(df['Fly_date'].dt.year >= 1999) & (df['Fly_date'].dt.year <= 2009)]\n",
        "\n",
        "#Group by 'Origin_city' for outbound flights and sum the 'Passenger' column\n",
        "city_outbound_flights = df_filtered.groupby('Origin_city')['Passengers'].sum().reset_index()\n",
        "total_num_passengers = city_outbound_flights.sort_values(by='Passengers', ascending=False).reset_index()\n",
        "total_passengers = total_num_passengers.nlargest(10, 'Passengers')\n",
        "total_passengers['rank'] = range(1, 11)\n",
        "\n",
        "# Renaming columns to match the output specification to make sure there is no other additional columns in dataframe.\n",
        "total_passengers.rename(columns={'Origin_city': 'city', 'Passengers': 'total_num_passengers'}, inplace=True)\n",
        "total_passengers = total_passengers[['city', 'total_num_passengers', 'rank']]\n",
        "print(total_passengers)\n"
      ],
      "metadata": {
        "colab": {
          "base_uri": "https://localhost:8080/"
        },
        "id": "vsYw01cejyzq",
        "outputId": "d4cb8686-3ab5-4f12-f51d-217364e4b341"
      },
      "execution_count": null,
      "outputs": [
        {
          "output_type": "stream",
          "name": "stdout",
          "text": [
            "              city  total_num_passengers  rank\n",
            "0      Chicago, IL             381908565     1\n",
            "1      Atlanta, GA             368972910     2\n",
            "2       Dallas, TX             294826498     3\n",
            "3  Los Angeles, CA             223950429     4\n",
            "4     New York, NY             209454427     5\n",
            "5      Houston, TX             199031920     6\n",
            "6      Phoenix, AZ             186032113     7\n",
            "7    Las Vegas, NV             184877669     8\n",
            "8  Minneapolis, MN             155881721     9\n",
            "9   Washington, DC             155604229    10\n"
          ]
        }
      ]
    },
    {
      "cell_type": "code",
      "source": [
        "#Q5:In the years 2007 and 2009 together, the Top 10 states in the USA carry the maximum total # of passengers on the outbound flights.\n",
        "#Output:state,total_num_passengers,rank\n",
        "# Splitting the 'Origin_city' into two new columns: 'City' and 'State'. extracting the state into a separate column, you need to handle it separately or use the first method shown above with expand=True to split into two new columns in one step.\n",
        "df[['City', 'State']] = df['Origin_city'].str.split(', ', expand=True)\n",
        "# Filter the DataFrame for flights in the years 2007 and 2009\n",
        "df_filtered = df[df['Fly_date'].dt.year.isin([2007, 2009])]\n",
        "state_passengers = df_filtered.groupby('State')['Passengers'].sum().reset_index()\n",
        "top_states = state_passengers.sort_values(by='Passengers', ascending=False).head(10)\n",
        "top_states['rank'] = range(1, 11)\n",
        "\n",
        "# Rename columns to match the output specification\n",
        "top_states.rename(columns={'State': 'State', 'Passengers': 'total_num_passengers'}, inplace=True)\n",
        "\n",
        "# Selecting only the specified columns for the final output\n",
        "final_output = top_states[['State', 'total_num_passengers', 'rank']]\n",
        "print(final_output)"
      ],
      "metadata": {
        "colab": {
          "base_uri": "https://localhost:8080/"
        },
        "id": "LHH-YUJQ423F",
        "outputId": "3471586f-3f6e-4ede-cddb-1ca436479f65"
      },
      "execution_count": null,
      "outputs": [
        {
          "output_type": "stream",
          "name": "stdout",
          "text": [
            "   State  total_num_passengers  rank\n",
            "43    TX             118576093     1\n",
            "4     CA             118537406     2\n",
            "9     FL              93448010     3\n",
            "10    GA              71945184     4\n",
            "14    IL              71179367     5\n",
            "34    NY              56989265     6\n",
            "27    NC              43021560     7\n",
            "33    NV              40460714     8\n",
            "3     AZ              38935740     9\n",
            "38    PA              36806330    10\n"
          ]
        }
      ]
    },
    {
      "cell_type": "code",
      "source": [
        "#Q6:Merge the columns 1 and 2\n",
        "#Output:city,total_inbound_flights,inbound_rank,total_outbound_flights,outbound_rank\n",
        "#how=inner : since citites name are common in both inbound and outbound flights i used inner join.\n",
        "from tabulate import tabulate\n",
        "df_merge=pd.merge(top_cities_inbound, top_cities_outbound, on='city', suffixes=('_inbound', '_outbound'))\n",
        "print(tabulate(df_merge, headers=['city','total_inbound_flights','rank_inbound','total_outbound_flights','rank_outbound'],tablefmt='grid'))\n"
      ],
      "metadata": {
        "colab": {
          "base_uri": "https://localhost:8080/"
        },
        "id": "BzYNo8EANXk5",
        "outputId": "19cb8fb5-4601-4df8-9050-5528f3dc5449"
      },
      "execution_count": null,
      "outputs": [
        {
          "output_type": "stream",
          "name": "stdout",
          "text": [
            "+----+--------------+-------------------------+----------------+--------------------------+-----------------+\n",
            "|    | city         |   total_inbound_flights |   rank_inbound |   total_outbound_flights |   rank_outbound |\n",
            "+====+==============+=========================+================+==========================+=================+\n",
            "|  0 | Chicago      |                  417297 |              1 |                   416742 |               1 |\n",
            "+----+--------------+-------------------------+----------------+--------------------------+-----------------+\n",
            "|  1 | Atlanta      |                  396603 |              2 |                   397112 |               2 |\n",
            "+----+--------------+-------------------------+----------------+--------------------------+-----------------+\n",
            "|  2 | Dallas       |                  316265 |              3 |                   316739 |               3 |\n",
            "+----+--------------+-------------------------+----------------+--------------------------+-----------------+\n",
            "|  3 | New York     |                  278206 |              4 |                   278351 |               4 |\n",
            "+----+--------------+-------------------------+----------------+--------------------------+-----------------+\n",
            "|  4 | Houston      |                  250030 |              5 |                   249285 |               5 |\n",
            "+----+--------------+-------------------------+----------------+--------------------------+-----------------+\n",
            "|  5 | Washington   |                  238744 |              6 |                   238958 |               6 |\n",
            "+----+--------------+-------------------------+----------------+--------------------------+-----------------+\n",
            "|  6 | Charlotte    |                  199700 |              7 |                   200403 |               7 |\n",
            "+----+--------------+-------------------------+----------------+--------------------------+-----------------+\n",
            "|  7 | Los Angeles  |                  192676 |              8 |                   193248 |               8 |\n",
            "+----+--------------+-------------------------+----------------+--------------------------+-----------------+\n",
            "|  8 | Detroit      |                  183655 |              9 |                   184087 |               9 |\n",
            "+----+--------------+-------------------------+----------------+--------------------------+-----------------+\n",
            "|  9 | Philadelphia |                  181645 |             10 |                   181575 |              10 |\n",
            "+----+--------------+-------------------------+----------------+--------------------------+-----------------+\n"
          ]
        }
      ]
    },
    {
      "cell_type": "code",
      "source": [
        "#Q7:Plot group bar chart (see below image) with seaborn/matplotlib for the output in question 6 above, specifically city,total_inbound_flights,total_outbound_flights. One bar for total_inbound_flights and another for total_outbound_flights. Plot for only top 10 cities by total_inbound_flights.\n",
        "#X-axis - city, Y-axis - total_outbound_flights, total_inbound_flights.\n",
        "import matplotlib.pyplot as plt\n",
        "import seaborn as sns\n",
        "df_merge.plot(x=\"city\", y=['total_inbound_flights', 'total_outbound_flights'], kind='bar')\n",
        "plt.title('Total number of inbound and outbound flights')\n",
        "plt.show()\n",
        "#The seaborn barplot function does not natively support passing a DataFrame or multiple columns directly as the y parameter for plotting.\n",
        "#Instead, the data needs to be in a long-form DataFrame where each row is a single observation.\n",
        "#pd.melt: Unpivot a DataFrame from wide to long format, optionally leaving identifiers set.\n",
        "df_long = pd.melt(df_merge, id_vars=['city'], value_vars=['total_inbound_flights', 'total_outbound_flights'],\n",
        "                  var_name='Flight Direction', value_name='Flight Count')\n",
        "\n",
        "# Now, plot using seaborn's barplot\n",
        "sns.barplot(x='city', y='Flight Count', hue='Flight Direction', data=df_long)\n",
        "plt.xticks(rotation=45)\n",
        "plt.show()\n"
      ],
      "metadata": {
        "colab": {
          "base_uri": "https://localhost:8080/",
          "height": 1000
        },
        "id": "nSJ2ZzHar9qB",
        "outputId": "2075dd2c-3af5-4519-c2d3-87a965d9757b"
      },
      "execution_count": null,
      "outputs": [
        {
          "output_type": "display_data",
          "data": {
            "text/plain": [
              "<Figure size 640x480 with 1 Axes>"
            ],
            "image/png": "[encoded data removed]"
          },
          "metadata": {}
        },
        {
          "output_type": "display_data",
          "data": {
            "text/plain": [
              "<Figure size 640x480 with 1 Axes>"
            ],
            "image/png": "[encoded data removed]"
          },
          "metadata": {}
        }
      ]
    },
    {
      "cell_type": "code",
      "source": [
        "#Part 3\n",
        "#Q1: Read the input csv file from here or here and convert columns to rows.\n",
        "#The \"Value\" column values should come from the crop column names such as Maize Production (tonnes), Rice Production (tonnes) from the input csv file.\n",
        "#(hint: UnPivot melt).\n",
        "import pandas as pd\n",
        "import numpy as np\n",
        "from google.colab import drive\n",
        "drive.mount('/content/drive')\n",
        "df_food=pd.read_csv('/content/drive/MyDrive/world_food_production.csv')\n",
        "melted_df = pd.melt(df_food, id_vars=['Entity', 'Year'], var_name='Productions', value_name='Value')\n",
        "sorted_df = melted_df.sort_values(by=['Entity', 'Year'])\n",
        "print(sorted_df.head(200))\n"
      ],
      "metadata": {
        "colab": {
          "base_uri": "https://localhost:8080/"
        },
        "id": "6P4w9Ko8m2zH",
        "outputId": "0f23a814-145d-44c9-b142-04371041b226"
      },
      "execution_count": null,
      "outputs": [
        {
          "output_type": "stream",
          "name": "stdout",
          "text": [
            "Drive already mounted at /content/drive; to attempt to forcibly remount, call drive.mount(\"/content/drive\", force_remount=True).\n",
            "             Entity  Year                    Productions      Value\n",
            "0       Afghanistan  1961      Maize Production (tonnes)   700000.0\n",
            "11912   Afghanistan  1961     Rice  Production ( tonnes)   319000.0\n",
            "23824   Afghanistan  1961      Yams  Production (tonnes)  7467702.0\n",
            "35736   Afghanistan  1961      Wheat Production (tonnes)  2279000.0\n",
            "47648   Afghanistan  1961   Tomatoes Production (tonnes)  1873812.0\n",
            "...             ...   ...                            ...        ...\n",
            "226336  Afghanistan  1969  Bananas  Production ( tonnes)  3914729.0\n",
            "238248  Afghanistan  1969   Avocados Production (tonnes)    76704.0\n",
            "250160  Afghanistan  1969     Apples Production (tonnes)    28200.0\n",
            "9       Afghanistan  1970      Maize Production (tonnes)   667000.0\n",
            "11921   Afghanistan  1970     Rice  Production ( tonnes)   366000.0\n",
            "\n",
            "[200 rows x 4 columns]\n"
          ]
        }
      ]
    },
    {
      "cell_type": "code",
      "source": [
        "#Q2:For each unique value in column \"Productions\" from last column, you have to assign a unique integer/float value. The following is an example output with unique float value. (hint: use ordinal encoding)\n",
        "\n",
        "import pandas as pd\n",
        "from sklearn.preprocessing import OrdinalEncoder\n",
        "encoder = OrdinalEncoder()\n",
        "\n",
        "# To Fit and transform the 'Productions' column\n",
        "melted_df['Productions'] = encoder.fit_transform(melted_df[['Productions']])\n",
        "\n",
        "melted_df['Productions'] = melted_df['Productions'].astype(float)\n",
        "\n",
        "print(melted_df)\n",
        "melted_df.sort_values(by=['Entity', 'Year', 'Productions'], ascending=False)\n",
        "print(melted_df.head(65))\n"
      ],
      "metadata": {
        "colab": {
          "base_uri": "https://localhost:8080/"
        },
        "id": "0z3Ynd2WuwDi",
        "outputId": "c7e921ec-9951-40fa-8a4d-97f6a4cdc975"
      },
      "execution_count": 33,
      "outputs": [
        {
          "output_type": "stream",
          "name": "stdout",
          "text": [
            "             Entity  Year  Productions        Value\n",
            "250152  Afghanistan  1961          0.0    15100.000\n",
            "238240  Afghanistan  1961          1.0    63439.000\n",
            "226328  Afghanistan  1961          2.0  3139079.000\n",
            "202504  Afghanistan  1961          3.0   835368.000\n",
            "190592  Afghanistan  1961          4.0   870970.000\n",
            "...             ...   ...          ...          ...\n",
            "83383      Zimbabwe  2021         17.0   262706.284\n",
            "71471      Zimbabwe  2021         18.0   145563.000\n",
            "59559      Zimbabwe  2021         19.0   206550.000\n",
            "47647      Zimbabwe  2021         20.0  1316724.800\n",
            "35735      Zimbabwe  2021         21.0  1153262.800\n",
            "\n",
            "[262064 rows x 4 columns]\n",
            "             Entity  Year  Productions      Value\n",
            "250152  Afghanistan  1961          0.0    15100.0\n",
            "238240  Afghanistan  1961          1.0    63439.0\n",
            "226328  Afghanistan  1961          2.0  3139079.0\n",
            "202504  Afghanistan  1961          3.0   835368.0\n",
            "190592  Afghanistan  1961          4.0   870970.0\n",
            "...             ...   ...          ...        ...\n",
            "83386   Afghanistan  1963         16.0    12800.0\n",
            "71474   Afghanistan  1963         17.0  3409916.0\n",
            "59562   Afghanistan  1963         18.0    63596.0\n",
            "47650   Afghanistan  1963         19.0  2096077.0\n",
            "35738   Afghanistan  1963         20.0  1947000.0\n",
            "\n",
            "[65 rows x 4 columns]\n"
          ]
        }
      ]
    },
    {
      "cell_type": "code",
      "source": [
        "#Q3:Read \"medical_data_synthetic.csv\" and convert yes/no to 1/0 for non-numeric column (\"obesity\") without using custom function (lambda) for the medical dataset here. Column \"gender\" need to be converted to numeric too without custom function.\n",
        "#(hint: use label encoding in sklearn library for \"obesity\" and use ordinal encoding for \"gender\")\n",
        "\n",
        "\n",
        "#If we use LabelEncoder on a binary column, such as one with 'yes' and 'no' values, LabelEncoder will assign 0 to one class and 1 to the other.\n",
        "#The order in which the numbers are assigned is alphabetical by default.\n",
        "#Fit the Encoder: LabelEncoder first examines the data to determine how many unique labels are present. It encounters 'no' and 'yes', which are two distinct labels.\n",
        "#Transform Labels to Integers: It then assigns an integer to each of the unique labels. By default, this is done in alphabetical order, so 'no' becomes 0 and 'yes' becomes 1.\n",
        "#Inplace Transformation: When you assign the result back to the df['obesity'], the original text labels in the DataFrame are replaced by the encoded integers.\n",
        "import pandas as pd\n",
        "import numpy as np\n",
        "from sklearn.preprocessing import LabelEncoder\n",
        "from sklearn.preprocessing import OrdinalEncoder\n",
        "from google.colab import drive\n",
        "drive.mount('/content/drive')\n",
        "medical_df = pd.read_csv('/content/drive/MyDrive/medical_data_synthetic.csv')\n",
        "#Applying LabelEncoder to the 'obesity' column\n",
        "label_encoder = LabelEncoder()\n",
        "medical_df['obesity'] = label_encoder.fit_transform(medical_df['obesity'])\n",
        "#Applying OrdinalEncoder to the 'gender' column\n",
        "#Specifying the order of categories to ensure 'female' is encoded as 0 and 'male' as 1\n",
        "encoder = OrdinalEncoder()\n",
        "ordinal_encoder = OrdinalEncoder(categories=[['female', 'male']], dtype=int)\n",
        "medical_df['gender'] = ordinal_encoder.fit_transform(medical_df[['gender']])\n",
        "print(medical_df)\n"
      ],
      "metadata": {
        "colab": {
          "base_uri": "https://localhost:8080/"
        },
        "id": "v-JIhi-EVhAb",
        "outputId": "8bb48f21-2db1-4c06-de32-98993ae72d62"
      },
      "execution_count": 8,
      "outputs": [
        {
          "output_type": "stream",
          "name": "stdout",
          "text": [
            "Drive already mounted at /content/drive; to attempt to forcibly remount, call drive.mount(\"/content/drive\", force_remount=True).\n",
            "  patient_name   bp  sugar  obesity  gender\n",
            "0          ram  111    110        1       1\n",
            "1        radha  100    120        0       0\n",
            "2        kumar  120    120        1       1\n",
            "3         john  130     90        0       1\n",
            "4         lily   92     91        1       0\n"
          ]
        }
      ]
    }
  ]
}