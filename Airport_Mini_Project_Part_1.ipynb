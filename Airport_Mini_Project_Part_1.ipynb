{
  "nbformat": 4,
  "nbformat_minor": 0,
  "metadata": {
    "colab": {
      "provenance": [],
      "authorship_tag": "ABX9TyPXa4Acqh28uxhvfzp3a7GA",
      "include_colab_link": true
    },
    "kernelspec": {
      "name": "python3",
      "display_name": "Python 3"
    },
    "language_info": {
      "name": "python"
    }
  },
  "cells": [
    {
      "cell_type": "markdown",
      "metadata": {
        "id": "view-in-github",
        "colab_type": "text"
      },
      "source": [
        "<a href=\"https://colab.research.google.com/github/aswini-training/python/blob/main/Airport_Mini_Project_Part_1.ipynb\" target=\"_parent\"><img src=\"https://colab.research.google.com/assets/colab-badge.svg\" alt=\"Open In Colab\"/></a>"
      ]
    },
    {
      "cell_type": "code",
      "execution_count": 1,
      "metadata": {
        "colab": {
          "base_uri": "https://localhost:8080/"
        },
        "id": "f790QZt-KR_k",
        "outputId": "7d03a3fc-302c-461d-afc3-7fc60839299c"
      },
      "outputs": [
        {
          "output_type": "stream",
          "name": "stdout",
          "text": [
            "Mounted at /content/drive\n",
            "   Airport_ID                          Name         City           Country  \\\n",
            "0           1                Goroka Airport       Goroka  Papua New Guinea   \n",
            "1           2                Madang Airport       Madang  Papua New Guinea   \n",
            "2           3  Mount Hagen Kagamuga Airport  Mount Hagen  Papua New Guinea   \n",
            "3           4                Nadzab Airport       Nadzab  Papua New Guinea   \n",
            "\n",
            "  IATA  ICAO  Latitude   Longitude  Altitude Timezone DST  \\\n",
            "0  GKA  AYGA -6.081690  145.391998      5282       10   U   \n",
            "1  MAG  AYMD -5.207080  145.789002        20       10   U   \n",
            "2  HGU  AYMH -5.826790  144.296005      5388       10   U   \n",
            "3  LAE  AYNZ -6.569803  146.725977       239       10   U   \n",
            "\n",
            "   Tz Database Timezone     Type       Source  \n",
            "0  Pacific/Port_Moresby  airport  OurAirports  \n",
            "1  Pacific/Port_Moresby  airport  OurAirports  \n",
            "2  Pacific/Port_Moresby  airport  OurAirports  \n",
            "3  Pacific/Port_Moresby  airport  OurAirports  \n"
          ]
        }
      ],
      "source": [
        "import pandas as pd\n",
        "import numpy as np\n",
        "import seaborn as sns\n",
        "import matplotlib.pyplot as plt\n",
        "from google.colab import drive\n",
        "drive.mount('/content/drive')\n",
        "df=pd.read_csv('/content/drive/MyDrive/airports-extended.csv')\n",
        "df.columns=['Airport_ID','Name','City','Country','IATA','ICAO','Latitude','Longitude','Altitude','Timezone','DST','Tz Database Timezone','Type','Source']\n",
        "print(df.head(4))\n"
      ]
    },
    {
      "cell_type": "code",
      "source": [
        "#Q1: Top 20 highest altitude airports in the world. Choose only “type” with “airport”\n",
        "#Output:airport_id, name, city, country, altitude, rank\n",
        "df_altitude=df[df['Type']=='airport']\n",
        "top_20_airports = df_altitude.nlargest(20, 'Altitude').reset_index()\n",
        "top_20_airports['Rank'] = top_20_airports.index + 1 # Adding a rank column based on the index\n",
        "output = top_20_airports[['Airport_ID', 'Name', 'City', 'Country', 'Altitude', 'Rank']]\n",
        "print(output)\n"
      ],
      "metadata": {
        "colab": {
          "base_uri": "https://localhost:8080/"
        },
        "id": "uagkEPwjdjjN",
        "outputId": "8728caa0-4a0d-450d-d3ba-f8eda06d2b4e"
      },
      "execution_count": 3,
      "outputs": [
        {
          "output_type": "stream",
          "name": "stdout",
          "text": [
            "    Airport_ID                                    Name         City  \\\n",
            "0         9310                 Daocheng Yading Airport     Daocheng   \n",
            "1         6396                    Qamdo Bangda Airport       Bangda   \n",
            "2         8921                        Kangding Airport     Kangding   \n",
            "3         7932                     Ngari Gunsa Airport    Shiquanhe   \n",
            "4         2762           El Alto International Airport       La Paz   \n",
            "5         2764           Capitan Nicolas Rojas Airport       Potosi   \n",
            "6         7894                    Yushu Batang Airport        Yushu   \n",
            "7         8969                      Copacabana Airport   Copacabana   \n",
            "8         2792  Inca Manco Capac International Airport      Juliaca   \n",
            "9        13483                     Golog Maqin Airport        Golog   \n",
            "10        7766                      Syangboche Airport   Syangboche   \n",
            "11        2763                    Juan Mendoza Airport        Oruro   \n",
            "12        4097                   Lhasa Gonggar Airport        Lhasa   \n",
            "13       10943                        Hongyuan Airport        Ngawa   \n",
            "14        2464                       La Quiaca Airport    Laboulaye   \n",
            "15        4301               Jiuzhai Huanglong Airport   Jiuzhaigou   \n",
            "16        2787                     Andahuaylas Airport  Andahuaylas   \n",
            "17        7313                           Uyuni Airport        Uyuni   \n",
            "18        2791                 Francisco Carle Airport        Jauja   \n",
            "19        4174                          Manang Airport       Manang   \n",
            "\n",
            "      Country  Altitude  Rank  \n",
            "0       China     14472     1  \n",
            "1       China     14219     2  \n",
            "2       China     14042     3  \n",
            "3       China     14022     4  \n",
            "4     Bolivia     13355     5  \n",
            "5     Bolivia     12913     6  \n",
            "6       China     12816     7  \n",
            "7     Bolivia     12591     8  \n",
            "8        Peru     12552     9  \n",
            "9       China     12426    10  \n",
            "10      Nepal     12400    11  \n",
            "11    Bolivia     12152    12  \n",
            "12      China     11713    13  \n",
            "13      China     11600    14  \n",
            "14  Argentina     11414    15  \n",
            "15      China     11327    16  \n",
            "16       Peru     11300    17  \n",
            "17    Bolivia     11136    18  \n",
            "18       Peru     11034    19  \n",
            "19      Nepal     11001    20  \n"
          ]
        }
      ]
    },
    {
      "cell_type": "code",
      "source": [
        "#Q2: Top 20 countries that have the highest total # of airports.\n",
        "#Output:country, total_airports, rank\n",
        "from tabulate import tabulate\n",
        "df_airport=df[df['Type']=='airport']\n",
        "countries_airport = df.groupby('Country').size()\n",
        "top_20_countries = countries_airport.nlargest(20).reset_index(name='Total_airports')\n",
        "top_20_countries['Rank'] = range(1, 21)\n",
        "print(tabulate(top_20_countries.head(20),headers= ['Country','Total Airports','Rank'],tablefmt='grid'))\n"
      ],
      "metadata": {
        "colab": {
          "base_uri": "https://localhost:8080/"
        },
        "id": "0jtAcNAoolzm",
        "outputId": "b895b5ed-26a9-4b05-db3d-ed4164b7da56"
      },
      "execution_count": 2,
      "outputs": [
        {
          "output_type": "stream",
          "name": "stdout",
          "text": [
            "+----+----------------+------------------+--------+\n",
            "|    | Country        |   Total Airports |   Rank |\n",
            "+====+================+==================+========+\n",
            "|  0 | United States  |             2708 |      1 |\n",
            "+----+----------------+------------------+--------+\n",
            "|  1 | Germany        |              820 |      2 |\n",
            "+----+----------------+------------------+--------+\n",
            "|  2 | Canada         |              640 |      3 |\n",
            "+----+----------------+------------------+--------+\n",
            "|  3 | France         |              454 |      4 |\n",
            "+----+----------------+------------------+--------+\n",
            "|  4 | Australia      |              445 |      5 |\n",
            "+----+----------------+------------------+--------+\n",
            "|  5 | Russia         |              427 |      6 |\n",
            "+----+----------------+------------------+--------+\n",
            "|  6 | China          |              418 |      7 |\n",
            "+----+----------------+------------------+--------+\n",
            "|  7 | United Kingdom |              371 |      8 |\n",
            "+----+----------------+------------------+--------+\n",
            "|  8 | Brazil         |              288 |      9 |\n",
            "+----+----------------+------------------+--------+\n",
            "|  9 | Japan          |              247 |     10 |\n",
            "+----+----------------+------------------+--------+\n",
            "| 10 | India          |              223 |     11 |\n",
            "+----+----------------+------------------+--------+\n",
            "| 11 | Indonesia      |              189 |     12 |\n",
            "+----+----------------+------------------+--------+\n",
            "| 12 | Sweden         |              183 |     13 |\n",
            "+----+----------------+------------------+--------+\n",
            "| 13 | Italy          |              178 |     14 |\n",
            "+----+----------------+------------------+--------+\n",
            "| 14 | Spain          |              145 |     15 |\n",
            "+----+----------------+------------------+--------+\n",
            "| 15 | South Africa   |              121 |     16 |\n",
            "+----+----------------+------------------+--------+\n",
            "| 16 | Netherlands    |              117 |     17 |\n",
            "+----+----------------+------------------+--------+\n",
            "| 17 | Taiwan         |              113 |     18 |\n",
            "+----+----------------+------------------+--------+\n",
            "| 18 | Switzerland    |              109 |     19 |\n",
            "+----+----------------+------------------+--------+\n",
            "| 19 | Argentina      |              108 |     20 |\n",
            "+----+----------------+------------------+--------+\n"
          ]
        }
      ]
    },
    {
      "cell_type": "code",
      "source": [
        "#Q3:Top 20 cities that have the highest total # of airports. (Two cities from different countries can have the same name, and you have to make sure the numbers are not messed up due to that!)\n",
        "#Output:city, total_airports, rank\n",
        "\n",
        "city_countries_airport = df_airport.groupby(['City','Country'])['Name'].count()\n",
        "top_20_cities = city_countries_airport.nlargest(20).reset_index(name='Total_airports')\n",
        "top_20_cities['Rank'] = range(1, 21)\n",
        "output = top_20_cities[['City', 'Total_airports', 'Rank']]\n",
        "print(tabulate(output.head(20),headers= ['City','Total Airports','Rank'],tablefmt='grid'))\n"
      ],
      "metadata": {
        "colab": {
          "base_uri": "https://localhost:8080/"
        },
        "id": "YrIKoJRc6FPY",
        "outputId": "6bb7bc89-1746-4a46-9512-5bd6cb55d841"
      },
      "execution_count": null,
      "outputs": [
        {
          "output_type": "stream",
          "name": "stdout",
          "text": [
            "+----+--------------+------------------+--------+\n",
            "|    | City         |   Total Airports |   Rank |\n",
            "+====+==============+==================+========+\n",
            "|  0 | Columbus     |                8 |      1 |\n",
            "+----+--------------+------------------+--------+\n",
            "|  1 | New York     |                8 |      2 |\n",
            "+----+--------------+------------------+--------+\n",
            "|  2 | London       |                7 |      3 |\n",
            "+----+--------------+------------------+--------+\n",
            "|  3 | Tokyo        |                7 |      4 |\n",
            "+----+--------------+------------------+--------+\n",
            "|  4 | Atlanta      |                6 |      5 |\n",
            "+----+--------------+------------------+--------+\n",
            "|  5 | Beijing      |                6 |      6 |\n",
            "+----+--------------+------------------+--------+\n",
            "|  6 | Houston      |                6 |      7 |\n",
            "+----+--------------+------------------+--------+\n",
            "|  7 | Istanbul     |                6 |      8 |\n",
            "+----+--------------+------------------+--------+\n",
            "|  8 | Jacksonville |                6 |      9 |\n",
            "+----+--------------+------------------+--------+\n",
            "|  9 | Moscow       |                6 |     10 |\n",
            "+----+--------------+------------------+--------+\n",
            "| 10 | Toronto      |                6 |     11 |\n",
            "+----+--------------+------------------+--------+\n",
            "| 11 | Chicago      |                5 |     12 |\n",
            "+----+--------------+------------------+--------+\n",
            "| 12 | Greenville   |                5 |     13 |\n",
            "+----+--------------+------------------+--------+\n",
            "| 13 | Hong Kong    |                5 |     14 |\n",
            "+----+--------------+------------------+--------+\n",
            "| 14 | Izmir        |                5 |     15 |\n",
            "+----+--------------+------------------+--------+\n",
            "| 15 | Paris        |                5 |     16 |\n",
            "+----+--------------+------------------+--------+\n",
            "| 16 | Vancouver    |                5 |     17 |\n",
            "+----+--------------+------------------+--------+\n",
            "| 17 | Anchorage    |                4 |     18 |\n",
            "+----+--------------+------------------+--------+\n",
            "| 18 | Ankara       |                4 |     19 |\n",
            "+----+--------------+------------------+--------+\n",
            "| 19 | Atmautluak   |                4 |     20 |\n",
            "+----+--------------+------------------+--------+\n"
          ]
        }
      ]
    },
    {
      "cell_type": "code",
      "source": [
        "#Q4: Pair of cities that have the same name, but from two different countries.\n",
        "#Output:city_a, country_a, city_b, country_b\n",
        "\n",
        "# Performing the self join on the 'City' column where the 'Country' column is different\n",
        "pairs = df.merge(df, on='City', suffixes=('_a', '_b'))\n",
        "\n",
        "# joined DataFrame to only include pairs where the countries are different\n",
        "pairs = pairs[pairs['Country_a'] != pairs['Country_b']]\n",
        "l\n",
        "# Droping duplicate pairs to ensure unique city-country combinations\n",
        "pairs = pairs[['City', 'Country_a', 'Country_b']].drop_duplicates()\n",
        "\n",
        "# Reformat the DataFrame to have the columns city_a, country_a, city_b, country_b\n",
        "output_df = pairs.rename(columns={'City': 'city_a', 'Country_a': 'country_a', 'Country_b': 'country_b'})\n",
        "\n",
        "# Adding a column 'city_b' which is just a duplicate of 'city_a' since they have the same city names\n",
        "output_df['city_b'] = output_df['city_a']\n",
        "print(output_df[['city_a', 'country_a', 'city_b', 'country_b']])"
      ],
      "metadata": {
        "colab": {
          "base_uri": "https://localhost:8080/"
        },
        "id": "B22uhbUHqSKy",
        "outputId": "a7f64429-7f87-4aea-d46f-2a71d3411145"
      },
      "execution_count": 7,
      "outputs": [
        {
          "output_type": "stream",
          "name": "stdout",
          "text": [
            "           city_a      country_a      city_b      country_b\n",
            "71      Princeton         Canada   Princeton  United States\n",
            "75      Princeton  United States   Princeton         Canada\n",
            "115        Eureka         Canada      Eureka  United States\n",
            "116        Eureka  United States      Eureka         Canada\n",
            "134      Kingston         Canada    Kingston        Jamaica\n",
            "...           ...            ...         ...            ...\n",
            "40482         NaN          China         NaN      Australia\n",
            "40512         NaN          China         NaN       Mongolia\n",
            "40513         NaN          China         NaN        Bahamas\n",
            "41631  San Miguel    El Salvador  San Miguel         Panama\n",
            "41632  San Miguel         Panama  San Miguel    El Salvador\n",
            "\n",
            "[628 rows x 4 columns]\n"
          ]
        }
      ]
    }
  ]
}