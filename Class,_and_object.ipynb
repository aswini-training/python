{
  "nbformat": 4,
  "nbformat_minor": 0,
  "metadata": {
    "colab": {
      "provenance": [],
      "authorship_tag": "ABX9TyMpJ4DUcEwR3hZpXosU3Yfw",
      "include_colab_link": true
    },
    "kernelspec": {
      "name": "python3",
      "display_name": "Python 3"
    },
    "language_info": {
      "name": "python"
    }
  },
  "cells": [
    {
      "cell_type": "markdown",
      "metadata": {
        "id": "view-in-github",
        "colab_type": "text"
      },
      "source": [
        "<a href=\"https://colab.research.google.com/github/aswini-training/python/blob/main/Class%2C_and_object.ipynb\" target=\"_parent\"><img src=\"https://colab.research.google.com/assets/colab-badge.svg\" alt=\"Open In Colab\"/></a>"
      ]
    },
    {
      "cell_type": "code",
      "execution_count": null,
      "metadata": {
        "colab": {
          "base_uri": "https://localhost:8080/"
        },
        "id": "XOUfZQfwtSDT",
        "outputId": "b5048759-0245-4f3f-b892-0360320dbdd2"
      },
      "outputs": [
        {
          "output_type": "stream",
          "name": "stdout",
          "text": [
            "Aswini\n",
            "Mohan\n"
          ]
        }
      ],
      "source": [
        "#Python is an object oriented programming language.\n",
        "#Almost everything in Python is an object, with its properties and methods.A Class is like an object constructor, or a \"blueprint\" for creating objects.\n",
        "\n",
        "#To create a class, use the keyword class:\n",
        "#__init__(self): All classes have a function called __init__(), which is always executed when the class is being initiated.\n",
        "#Use the __init__() function to assign values to object properties, or other operations that are necessary to do when the object is being created:\n",
        "\n",
        "import numpy as np\n",
        "class details:\n",
        "  def __init__(self,fname,lname): #self is the object - fname and lname are attributes of self.\n",
        "    self.fname = fname   #fname and lname are defined for each object.\n",
        "    self.lname = lname\n",
        "x = details(\"Aswini\",\"Mohan\") #x is the object to store the values for attributes and init gets triggered.\n",
        "print(x.fname)\n",
        "print(x.lname)\n",
        "\n",
        "\n"
      ]
    },
    {
      "cell_type": "code",
      "source": [
        "#__str__() in class:\n",
        "#If the __str__() function is not set, the string representation of the object is returned:\n",
        "\n",
        "import numpy as np\n",
        "class details:\n",
        "  def __init__(self,fname,lname):\n",
        "    self.fname = fname\n",
        "    self.lname = lname\n",
        "x = details(\"Aswini\",\"Mohan\")\n",
        "print(x)\n"
      ],
      "metadata": {
        "colab": {
          "base_uri": "https://localhost:8080/"
        },
        "id": "PQLWafWj1PAS",
        "outputId": "a722a5db-87ab-49fd-d940-dc7548a40042"
      },
      "execution_count": null,
      "outputs": [
        {
          "output_type": "stream",
          "name": "stdout",
          "text": [
            "<__main__.details object at 0x7ed08153eb60>\n"
          ]
        }
      ]
    },
    {
      "cell_type": "code",
      "source": [
        "#The __str__() function controls what should be returned when the class object is represented as a string.\n",
        "\n",
        "import numpy as np\n",
        "class details:\n",
        "  def __init__(self,fname,age):\n",
        "    self.fname = fname\n",
        "    self.age = age\n",
        "  def __str__(self): - #defines string method\n",
        "    return f\"{self.fname}({self.age})\"\n",
        "x = details(\"Aswini\",\"21\")\n",
        "print(x)"
      ],
      "metadata": {
        "colab": {
          "base_uri": "https://localhost:8080/"
        },
        "id": "W-3d_Q1N2PJZ",
        "outputId": "440f8761-b2c6-4c77-e0f8-23b0a0b97e2c"
      },
      "execution_count": null,
      "outputs": [
        {
          "output_type": "stream",
          "name": "stdout",
          "text": [
            "Aswini(21)\n"
          ]
        }
      ]
    },
    {
      "cell_type": "code",
      "source": [
        "#Object method:Objects can also contain methods. Methods in objects are functions that belong to the object\n",
        "import numpy as np\n",
        "class details:\n",
        "  def __init__(self,fname,lname):\n",
        "    self.fname = fname\n",
        "    self.lname = lname\n",
        "  def person(self): #person is the method with self as the parameters.\n",
        "     print(\"My name is \" + self.fname + self.lname)\n",
        "x = details(\"Aswini\",\"Mohan\") #x is the object with details as class is created with fname and lname : x is the object creation\n",
        "x.person() - #calling the object method.\n",
        "\n",
        "#Note: The self parameter is a reference to the current instance of the class, and is used to access variables that belongs to the class.\n",
        "#It does not have to be named self , you can call it whatever you like, but it has to be the first parameter of any function in the class.\n"
      ],
      "metadata": {
        "colab": {
          "base_uri": "https://localhost:8080/"
        },
        "id": "weFE5HkS3o70",
        "outputId": "2c3b7b19-d979-4339-f977-057316cb1f35"
      },
      "execution_count": null,
      "outputs": [
        {
          "output_type": "stream",
          "name": "stdout",
          "text": [
            "My name is AswiniMohan\n"
          ]
        }
      ]
    },
    {
      "cell_type": "code",
      "source": [
        "#Modifying object properties\n",
        "import numpy as np\n",
        "\n",
        "class Person:\n",
        "  def __init__(self, name, age):\n",
        "    self.name = name\n",
        "    self.age = age\n",
        "\n",
        "  def myfunc(self):\n",
        "    print(\"Hello my name is \" + self.name)\n",
        "\n",
        "p1 = Person(\"Ajay\", 15)\n",
        "p1.age = 12\n",
        "print(p1.age)\n",
        "p1.myfunc()\n"
      ],
      "metadata": {
        "colab": {
          "base_uri": "https://localhost:8080/"
        },
        "id": "NjF6lZiT5-hC",
        "outputId": "8d766610-5bb9-4bc6-b597-b871ac578291"
      },
      "execution_count": null,
      "outputs": [
        {
          "output_type": "stream",
          "name": "stdout",
          "text": [
            "12\n",
            "Hello my name is Ajay\n"
          ]
        }
      ]
    },
    {
      "cell_type": "code",
      "source": [
        "#delete object properties:\n",
        "import numpy as np\n",
        "class details:\n",
        "  def __init__(self,fname,lname):\n",
        "    self.fname = fname\n",
        "    self.lname = lname\n",
        "x = details(\"Aswini\",\"Mohan\")\n",
        "del x.lname\n",
        "\n",
        "print(x.lname)"
      ],
      "metadata": {
        "id": "_bvXoYdbXiab",
        "colab": {
          "base_uri": "https://localhost:8080/",
          "height": 215
        },
        "outputId": "27e11083-5ea3-4d3b-8003-f5035658d129"
      },
      "execution_count": 3,
      "outputs": [
        {
          "output_type": "error",
          "ename": "AttributeError",
          "evalue": "ignored",
          "traceback": [
            "\u001b[0;31m---------------------------------------------------------------------------\u001b[0m",
            "\u001b[0;31mAttributeError\u001b[0m                            Traceback (most recent call last)",
            "\u001b[0;32m<ipython-input-3-b1feee1d0fe6>\u001b[0m in \u001b[0;36m<cell line: 10>\u001b[0;34m()\u001b[0m\n\u001b[1;32m      8\u001b[0m \u001b[0;32mdel\u001b[0m \u001b[0mx\u001b[0m\u001b[0;34m.\u001b[0m\u001b[0mlname\u001b[0m\u001b[0;34m\u001b[0m\u001b[0;34m\u001b[0m\u001b[0m\n\u001b[1;32m      9\u001b[0m \u001b[0;34m\u001b[0m\u001b[0m\n\u001b[0;32m---> 10\u001b[0;31m \u001b[0mprint\u001b[0m\u001b[0;34m(\u001b[0m\u001b[0mx\u001b[0m\u001b[0;34m.\u001b[0m\u001b[0mlname\u001b[0m\u001b[0;34m)\u001b[0m\u001b[0;34m\u001b[0m\u001b[0;34m\u001b[0m\u001b[0m\n\u001b[0m",
            "\u001b[0;31mAttributeError\u001b[0m: 'details' object has no attribute 'lname'"
          ]
        }
      ]
    },
    {
      "cell_type": "code",
      "source": [],
      "metadata": {
        "id": "CvNck890lUuc"
      },
      "execution_count": null,
      "outputs": []
    },
    {
      "cell_type": "code",
      "source": [
        "#Pass statement: class definitions cannot be empty, but if you for some reason have a class definition with no content, put in the pass statement to avoid getting an err\n",
        "class details:\n",
        "  pass\n",
        "\n",
        "  # having an empty class definition like this, would raise an error without the pass statement."
      ],
      "metadata": {
        "id": "X0qfH55TlU1Z"
      },
      "execution_count": 5,
      "outputs": []
    }
  ]
}