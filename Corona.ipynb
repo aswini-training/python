{
  "nbformat": 4,
  "nbformat_minor": 0,
  "metadata": {
    "colab": {
      "provenance": [],
      "authorship_tag": "ABX9TyM/lISaphTpo59zle6ukoc/",
      "include_colab_link": true
    },
    "kernelspec": {
      "name": "python3",
      "display_name": "Python 3"
    },
    "language_info": {
      "name": "python"
    }
  },
  "cells": [
    {
      "cell_type": "markdown",
      "metadata": {
        "id": "view-in-github",
        "colab_type": "text"
      },
      "source": [
        "<a href=\"https://colab.research.google.com/github/aswini-training/python/blob/main/Corona.ipynb\" target=\"_parent\"><img src=\"https://colab.research.google.com/assets/colab-badge.svg\" alt=\"Open In Colab\"/></a>"
      ]
    },
    {
      "cell_type": "code",
      "execution_count": 6,
      "metadata": {
        "colab": {
          "base_uri": "https://localhost:8080/"
        },
        "id": "Ge-3ijA5VWHD",
        "outputId": "c28e923c-b435-4747-8d55-5cf94d633369"
      },
      "outputs": [
        {
          "output_type": "stream",
          "name": "stdout",
          "text": [
            "Drive already mounted at /content/drive; to attempt to forcibly remount, call drive.mount(\"/content/drive\", force_remount=True).\n",
            "county    1930\n",
            "state       56\n",
            "dtype: int64\n"
          ]
        }
      ],
      "source": [
        "#Part I: Observation Questions\n",
        "#How many distinct counties + state there (hint: unique)\n",
        "#Is there any data missing for any month/day of any year? (hint: use unique applied on date + month part of each year.\n",
        "#concat can be used in case of similar columns\n",
        "import pandas as pd\n",
        "import numpy as np\n",
        "from google.colab import drive\n",
        "drive.mount('/content/drive')\n",
        "df1 = pd.read_csv('/content/drive/MyDrive/us-counties.csv')\n",
        "df2 = pd.read_csv('/content/drive/MyDrive/us-counties-recent.csv')\n",
        "Concat_df = pd.concat([df1, df2], ignore_index=True)\n",
        "count = Concat_df[['county','state']].nunique()\n",
        "print(count)\n",
        "\n",
        "\n",
        "\n"
      ]
    }
  ]
}