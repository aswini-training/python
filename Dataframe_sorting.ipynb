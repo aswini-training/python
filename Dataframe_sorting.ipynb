{
  "nbformat": 4,
  "nbformat_minor": 0,
  "metadata": {
    "colab": {
      "provenance": [],
      "authorship_tag": "ABX9TyNa7julnXceFMlrQGhP3P98",
      "include_colab_link": true
    },
    "kernelspec": {
      "name": "python3",
      "display_name": "Python 3"
    },
    "language_info": {
      "name": "python"
    }
  },
  "cells": [
    {
      "cell_type": "markdown",
      "metadata": {
        "id": "view-in-github",
        "colab_type": "text"
      },
      "source": [
        "<a href=\"https://colab.research.google.com/github/aswini-training/python/blob/main/Dataframe_sorting.ipynb\" target=\"_parent\"><img src=\"https://colab.research.google.com/assets/colab-badge.svg\" alt=\"Open In Colab\"/></a>"
      ]
    },
    {
      "cell_type": "code",
      "execution_count": null,
      "metadata": {
        "id": "5PguqD-mXuDG"
      },
      "outputs": [],
      "source": [
        "#Sorting pandas - dataFrame.sort_values(by, *, axis=0, ascending=True, inplace=False, kind='quicksort', na_position='last', ignore_index=False, key=None)[source]\n",
        "#Sort by the values along either axis. - Axis - In pandas, axis refers to the direction along which an operation is performed. For example, if you want to sum the values in a column,\n",
        "#you would use axis=0. If you want to sum the values in a row, you would use axis=1.\n",
        "\n",
        "\"\"\"\n",
        "by\n",
        "str or list of str\n",
        "Name or list of names to sort by.\n",
        "\n",
        "if axis is 0 or ‘index’ then by may contain index levels and/or column labels.\n",
        "\n",
        "if axis is 1 or ‘columns’ then by may contain column levels and/or index labels.\n",
        "\n",
        "axis\n",
        "“{0 or ‘index’, 1 or ‘columns’}”, default 0\n",
        "Axis to be sorted.\n",
        "\n",
        "ascending\n",
        "bool or list of bool, default True\n",
        "Sort ascending vs. descending. Specify list for multiple sort orders. If this is a list of bools, must match the length of the by.\n",
        "\n",
        "inplace\n",
        "bool, default False\n",
        "If True, perform operation in-place.\n",
        "\n",
        "kind\n",
        "{‘quicksort’, ‘mergesort’, ‘heapsort’, ‘stable’}, default ‘quicksort’\n",
        "Choice of sorting algorithm. See also numpy.sort() for more information. mergesort and stable are the only stable algorithms. For DataFrames, this option is only applied when sorting on a single column or label.\n",
        "\n",
        "na_position\n",
        "{‘first’, ‘last’}, default ‘last’\n",
        "Puts NaNs at the beginning if first; last puts NaNs at the end.\n",
        "\n",
        "ignore_index = False\n",
        "bool, default False\n",
        "If True, the resulting axis will be labeled 0, 1, …, n - 1.\n",
        "\n",
        "key\n",
        "callable, optional\n",
        "Apply the key function to the values before sorting. This is similar to the key argument in the builtin sorted() function,\n",
        "with the notable difference that this key function should be vectorized. It should expect a Series and return a Series with the same shape as the input.\n",
        "It will be applied to each column in by independently.\n",
        "\"\"\""
      ]
    },
    {
      "cell_type": "code",
      "source": [
        "import pandas as pd\n",
        "import numpy as np\n",
        "df = pd.DataFrame({\n",
        "\n",
        "        'Name': ['Alice', 'Bob', 'Charlie', 'David'],\n",
        "\n",
        "        'Age': [25, 30, 22, 35],\n",
        "\n",
        "        'Salary': [50000, 60000, 45000, 70000]\n",
        "})\n",
        "print(df)\n"
      ],
      "metadata": {
        "colab": {
          "base_uri": "https://localhost:8080/"
        },
        "id": "LqcnWQ0XZ3CA",
        "outputId": "33d0b3ee-577c-4eee-c808-7d5b35ccf2bc"
      },
      "execution_count": 4,
      "outputs": [
        {
          "output_type": "stream",
          "name": "stdout",
          "text": [
            "      Name  Age  Salary\n",
            "0    Alice   25   50000\n",
            "1      Bob   30   60000\n",
            "2  Charlie   22   45000\n",
            "3    David   35   70000\n"
          ]
        }
      ]
    },
    {
      "cell_type": "code",
      "source": [
        "#sort by ascending order - for descending order - ascending=false\n",
        "import pandas as pd\n",
        "import numpy as np\n",
        "df = pd.DataFrame({\n",
        "\n",
        "        'Name': ['Alice', 'Bob', 'Charlie', 'David'],\n",
        "\n",
        "        'Age': [25, 30, 22, 35],\n",
        "\n",
        "        'Salary': [50000, 60000, 45000, 70000]\n",
        "})\n",
        "age_by = df.sort_values(by='Age') #by default it sorts in ascending order\n",
        "print(age_by)\n",
        "age_by = df.sort_values(by='Age',ascending=True)\n",
        "print(age_by)\n",
        "age_by = df.sort_values(by=['Age','Name'],ascending=False) #sorts in descending order\n",
        "print(age_by)"
      ],
      "metadata": {
        "colab": {
          "base_uri": "https://localhost:8080/"
        },
        "id": "K0A3Rhw0cOCJ",
        "outputId": "c70c33b7-a4e2-4cba-813e-d3dd52ec5bc0"
      },
      "execution_count": 25,
      "outputs": [
        {
          "output_type": "stream",
          "name": "stdout",
          "text": [
            "      Name  Age  Salary\n",
            "2  Charlie   22   45000\n",
            "0    Alice   25   50000\n",
            "1      Bob   30   60000\n",
            "3    David   35   70000\n",
            "      Name  Age  Salary\n",
            "2  Charlie   22   45000\n",
            "0    Alice   25   50000\n",
            "1      Bob   30   60000\n",
            "3    David   35   70000\n",
            "      Name  Age  Salary\n",
            "3    David   35   70000\n",
            "1      Bob   30   60000\n",
            "0    Alice   25   50000\n",
            "2  Charlie   22   45000\n"
          ]
        }
      ]
    },
    {
      "cell_type": "code",
      "source": [
        "#sorting NAN values\n",
        "import pandas as pd\n",
        "import numpy as np\n",
        "df = pd.DataFrame({\n",
        "\n",
        "        'Name': ['Alice', 'Bob', 'Charlie', np.nan, 'David'],\n",
        "\n",
        "        'Age': [25, np.NaN, 22, 35, 45],\n",
        "\n",
        "        'Salary': [50000, 60000, np.NaN, 70000,35000]\n",
        "})\n",
        "print(df)\n",
        "na_position = df.sort_values(by=['Name','Salary'], na_position='first') #it sorts nan position for Name column only.\n",
        "print(na_position)\n"
      ],
      "metadata": {
        "colab": {
          "base_uri": "https://localhost:8080/"
        },
        "id": "mSrty-ybsdOI",
        "outputId": "26492656-abfd-4e68-fc24-834a7f783e18"
      },
      "execution_count": 43,
      "outputs": [
        {
          "output_type": "stream",
          "name": "stdout",
          "text": [
            "      Name   Age   Salary\n",
            "0    Alice  25.0  50000.0\n",
            "1      Bob   NaN  60000.0\n",
            "2  Charlie  22.0      NaN\n",
            "3      NaN  35.0  70000.0\n",
            "4    David  45.0  35000.0\n",
            "      Name   Age   Salary\n",
            "3      NaN  35.0  70000.0\n",
            "0    Alice  25.0  50000.0\n",
            "1      Bob   NaN  60000.0\n",
            "2  Charlie  22.0      NaN\n",
            "4    David  45.0  35000.0\n"
          ]
        }
      ]
    },
    {
      "cell_type": "code",
      "source": [
        "#key parameter - The key parameter allows you to specify a custom function that will be used to extract a comparable key from each element when sorting.\n",
        "#DataFrame.keys() method. Using this method we can get the ‘info axis’. This is the index for Series, columns for DataFrame.\n",
        "import pandas as pd\n",
        "import numpy as np\n",
        "df = pd.DataFrame({\n",
        "\n",
        "        'Name': ['Alice', 'Bob', 'Charlie', 'David'],\n",
        "\n",
        "        'Age': [25, 30, 22, 35],\n",
        "\n",
        "        'Salary': [50000, 60000, 45000, 70000]\n",
        "})\n",
        "print(df.keys())"
      ],
      "metadata": {
        "colab": {
          "base_uri": "https://localhost:8080/"
        },
        "id": "EU4fC4tCv8bN",
        "outputId": "4f1db58e-1793-4af9-f01b-08b9dec0271f"
      },
      "execution_count": 44,
      "outputs": [
        {
          "output_type": "stream",
          "name": "stdout",
          "text": [
            "Index(['Name', 'Age', 'Salary'], dtype='object')\n"
          ]
        }
      ]
    }
  ]
}