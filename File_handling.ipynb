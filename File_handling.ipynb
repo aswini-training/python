{
  "nbformat": 4,
  "nbformat_minor": 0,
  "metadata": {
    "colab": {
      "provenance": [],
      "mount_file_id": "1_Kc-nosYTXlqosEB_miRWd3hdbOnjug5",
      "authorship_tag": "ABX9TyP8js6kusMxOy5/yPcToD/u",
      "include_colab_link": true
    },
    "kernelspec": {
      "name": "python3",
      "display_name": "Python 3"
    },
    "language_info": {
      "name": "python"
    }
  },
  "cells": [
    {
      "cell_type": "markdown",
      "metadata": {
        "id": "view-in-github",
        "colab_type": "text"
      },
      "source": [
        "<a href=\"https://colab.research.google.com/github/aswini-training/python/blob/main/File_handling.ipynb\" target=\"_parent\"><img src=\"https://colab.research.google.com/assets/colab-badge.svg\" alt=\"Open In Colab\"/></a>"
      ]
    },
    {
      "cell_type": "code",
      "execution_count": null,
      "metadata": {
        "colab": {
          "base_uri": "https://localhost:8080/"
        },
        "id": "b2NrJVNQQkKo",
        "outputId": "31808f8a-69ce-4531-d8a9-7e60e5dfcd21"
      },
      "outputs": [
        {
          "output_type": "stream",
          "name": "stdout",
          "text": [
            "Drive already mounted at /content/drive; to attempt to forcibly remount, call drive.mount(\"/content/drive\", force_remount=True).\n"
          ]
        }
      ],
      "source": [
        "import pandas as pd\n",
        "from google.colab import drive\n",
        "drive.mount('/content/drive')\n"
      ]
    },
    {
      "cell_type": "code",
      "source": [
        "import pandas as pd\n",
        "from google.colab import drive\n",
        "drive.mount('/content/drive')\n",
        "file_path = \"/content/drive/MyDrive/Colab Notebooks/In the story The Lost Kitten a girl.txt\"\n",
        "with open(file_path, \"r\") as file:\n",
        "    content = file.readline()\n",
        "print(content,'\\n')"
      ],
      "metadata": {
        "id": "0BW8_CrLRxSJ",
        "colab": {
          "base_uri": "https://localhost:8080/"
        },
        "outputId": "2e40f7c4-7b05-42bf-a35f-2e30fc94e7c9"
      },
      "execution_count": null,
      "outputs": [
        {
          "output_type": "stream",
          "name": "stdout",
          "text": [
            "Drive already mounted at /content/drive; to attempt to forcibly remount, call drive.mount(\"/content/drive\", force_remount=True).\n",
            "In the story \"The Lost Kitten\" a girl named Lily decided to take her cat Whiskers out for a walk to the nearby park on a sunny and warm afternoon. Lily put Whiskers on a leash attached to the coller of the cat so it wouldnt run away and then they start walking to their destination.Once they reached the park Lily spotted a bright red ball some children were playing with inside of the park.Then the ball landed right next to Whiskers and then Whiskers got very startled by it jumped out of the collar and suddenly bolted into the forest Lilly followed right behind the cat.Then When she started searching and calling out for Whiskers but she still could not find Whiskers anywhere. he went home with tears in her eyes beacuse she couldnt find her dear cat.In the night she couldnt get good sleep because she was constantly worrying about where her cat went and if Whiskers is doing ok or not.The very next day she immediatley made missing posters of Whiskers to hang around the nieghborhood.Then she started asking friends and nieghbors to help search for the cat so if anyone spots Whiskers she would know about it and she could come retrive the cat.After weeks and weeks of searching she did not lose hope and she had told everybody about her missing cat. Finally one day a nieghbor found Whiskers in thier backyard scared but not hurt she was overjoyed that she had finnaly had gottten reunited with her long lost cat.  \n",
            "\n"
          ]
        }
      ]
    },
    {
      "cell_type": "code",
      "source": [
        "f = open(\"/content/drive/MyDrive/Colab Notebooks/In the story The Lost Kitten a girl.txt\")\n",
        "print(f.readline(20)) #it will show 20 bytes of characters\n",
        "print()"
      ],
      "metadata": {
        "id": "OKI1ZyqkVqsu",
        "colab": {
          "base_uri": "https://localhost:8080/"
        },
        "outputId": "ecb0a964-77a7-4489-fd3e-85c779f7f715"
      },
      "execution_count": null,
      "outputs": [
        {
          "output_type": "stream",
          "name": "stdout",
          "text": [
            "In the story \"The Lo\n",
            "\n"
          ]
        }
      ]
    },
    {
      "cell_type": "code",
      "source": [
        "file = open(\"/content/drive/MyDrive/Colab Notebooks/In the story The Lost Kitten a girl.txt\", 'r')\n",
        "for i in file:\n",
        "    print(i)"
      ],
      "metadata": {
        "colab": {
          "base_uri": "https://localhost:8080/"
        },
        "id": "o7nSdpQ9Bk2U",
        "outputId": "be8b82c7-889f-4414-cbeb-c4cc769c281a"
      },
      "execution_count": null,
      "outputs": [
        {
          "output_type": "stream",
          "name": "stdout",
          "text": [
            "In the story \"The Lost Kitten\" a girl named Lily decided to take her cat Whiskers out for a walk to the nearby park on a sunny and warm afternoon. Lily put Whiskers on a leash attached to the coller of the cat so it wouldnt run away and then they start walking to their destination.Once they reached the park Lily spotted a bright red ball some children were playing with inside of the park.Then the ball landed right next to Whiskers and then Whiskers got very startled by it jumped out of the collar and suddenly bolted into the forest Lilly followed right behind the cat.Then When she started searching and calling out for Whiskers but she still could not find Whiskers anywhere. he went home with tears in her eyes beacuse she couldnt find her dear cat.In the night she couldnt get good sleep because she was constantly worrying about where her cat went and if Whiskers is doing ok or not.The very next day she immediatley made missing posters of Whiskers to hang around the nieghborhood.Then she started asking friends and nieghbors to help search for the cat so if anyone spots Whiskers she would know about it and she could come retrive the cat.After weeks and weeks of searching she did not lose hope and she had told everybody about her missing cat. Finally one day a nieghbor found Whiskers in thier backyard scared but not hurt she was overjoyed that she had finnaly had gottten reunited with her long lost cat. \n"
          ]
        }
      ]
    },
    {
      "cell_type": "code",
      "source": [
        "#\"w\" - Write - will overwrite any existing content\n",
        "file = open(\"/content/drive/MyDrive/Colab Notebooks/In the story The Lost Kitten a girl.txt\",\"w\")\n",
        "file.write(\"Hello\")\n",
        "file.close()\n",
        "\n",
        "file = open(\"/content/drive/MyDrive/Colab Notebooks/In the story The Lost Kitten a girl.txt\",\"r\")\n",
        "print(file.read())"
      ],
      "metadata": {
        "colab": {
          "base_uri": "https://localhost:8080/"
        },
        "id": "ykllLlKEC2lC",
        "outputId": "4af19bd7-a823-407d-b875-f175d220e404"
      },
      "execution_count": null,
      "outputs": [
        {
          "output_type": "stream",
          "name": "stdout",
          "text": [
            "Hello\n"
          ]
        }
      ]
    }
  ]
}