{
  "nbformat": 4,
  "nbformat_minor": 0,
  "metadata": {
    "colab": {
      "provenance": [],
      "mount_file_id": "14pzOrUTyx2GDE5gBA4rPBNoEyuQP1q_D",
      "authorship_tag": "ABX9TyPcbzBQ1L6PgHCl5FJVjSsJ",
      "include_colab_link": true
    },
    "kernelspec": {
      "name": "python3",
      "display_name": "Python 3"
    },
    "language_info": {
      "name": "python"
    }
  },
  "cells": [
    {
      "cell_type": "markdown",
      "metadata": {
        "id": "view-in-github",
        "colab_type": "text"
      },
      "source": [
        "<a href=\"https://colab.research.google.com/github/aswini-training/python/blob/main/Forest_Fire.ipynb\" target=\"_parent\"><img src=\"https://colab.research.google.com/assets/colab-badge.svg\" alt=\"Open In Colab\"/></a>"
      ]
    },
    {
      "cell_type": "code",
      "execution_count": 6,
      "metadata": {
        "colab": {
          "base_uri": "https://localhost:8080/"
        },
        "id": "G72erk3nZ2vD",
        "outputId": "2998840b-9641-4e7a-ba74-8c1bf9dbfa53"
      },
      "outputs": [
        {
          "output_type": "stream",
          "name": "stdout",
          "text": [
            "Drive already mounted at /content/drive; to attempt to forcibly remount, call drive.mount(\"/content/drive\", force_remount=True).\n",
            "+----+---------+---------+\n",
            "|    | Month   |    Area |\n",
            "+====+=========+=========+\n",
            "| 11 | sep     | 3086.13 |\n",
            "+----+---------+---------+\n",
            "|  1 | aug     | 2297.99 |\n",
            "+----+---------+---------+\n",
            "|  5 | jul     |  459.83 |\n",
            "+----+---------+---------+\n",
            "|  7 | mar     |  235.26 |\n",
            "+----+---------+---------+\n",
            "|  3 | feb     |  125.5  |\n",
            "+----+---------+---------+\n",
            "|  2 | dec     |  119.97 |\n",
            "+----+---------+---------+\n",
            "| 10 | oct     |   99.57 |\n",
            "+----+---------+---------+\n",
            "|  6 | jun     |   99.3  |\n",
            "+----+---------+---------+\n",
            "|  0 | apr     |   80.02 |\n",
            "+----+---------+---------+\n",
            "|  8 | may     |   38.48 |\n",
            "+----+---------+---------+\n"
          ]
        }
      ],
      "source": [
        "#Q1:Top 10 maximum burnt area happened on which month.\n",
        "import pandas as pd\n",
        "import numpy as np\n",
        "from tabulate import tabulate\n",
        "from datetime import datetime\n",
        "from google.colab import drive\n",
        "drive.mount('/content/drive')\n",
        "df=pd.read_csv('/content/drive/MyDrive/forestfires.csv')\n",
        "#Group by month and sum the burnt area to get the total burnt area for each month.\n",
        "df_forestfire = df.groupby('month')['area'].sum().reset_index()\n",
        "top_10_max_month = df_forestfire.nlargest(10, 'area')\n",
        "print((tabulate(top_10_max_month,headers=['Month','Area'],tablefmt='grid')))\n"
      ]
    },
    {
      "cell_type": "code",
      "source": [
        "# Group by month and find the maximum burnt area for single events\n",
        "max_burnt_area_per_month = df.groupby('month')['area'].max().reset_index()\n",
        "for_single_event = max_burnt_area_per_month.nlargest(10, 'area')\n",
        "print((tabulate(for_single_event,headers=['Month','Area'],tablefmt='grid')))\n"
      ],
      "metadata": {
        "colab": {
          "base_uri": "https://localhost:8080/"
        },
        "id": "sgG2uaWQkNsE",
        "outputId": "93d35aab-5b4b-4e39-e2a8-dcec2dbf58ba"
      },
      "execution_count": 7,
      "outputs": [
        {
          "output_type": "stream",
          "name": "stdout",
          "text": [
            "+----+---------+---------+\n",
            "|    | Month   |    Area |\n",
            "+====+=========+=========+\n",
            "| 11 | sep     | 1090.84 |\n",
            "+----+---------+---------+\n",
            "|  1 | aug     |  746.28 |\n",
            "+----+---------+---------+\n",
            "|  5 | jul     |  278.53 |\n",
            "+----+---------+---------+\n",
            "|  6 | jun     |   70.32 |\n",
            "+----+---------+---------+\n",
            "|  0 | apr     |   61.13 |\n",
            "+----+---------+---------+\n",
            "|  3 | feb     |   51.78 |\n",
            "+----+---------+---------+\n",
            "| 10 | oct     |   49.37 |\n",
            "+----+---------+---------+\n",
            "|  8 | may     |   38.48 |\n",
            "+----+---------+---------+\n",
            "|  7 | mar     |   36.85 |\n",
            "+----+---------+---------+\n",
            "|  2 | dec     |   24.77 |\n",
            "+----+---------+---------+\n"
          ]
        }
      ]
    },
    {
      "cell_type": "code",
      "source": [
        "#Q2: Highest temperature and lowest temperature for each month\n",
        "month_order = ['jan', 'feb', 'mar', 'apr', 'may', 'jun', 'jul', 'aug', 'sep', 'oct', 'nov', 'dec']\n",
        "\n",
        "#Applying the categorical conversion with the correct month_order\n",
        "df['month'] = pd.Categorical(df['month'], categories=month_order, ordered=True)\n",
        "\n",
        "# Group by 'month' and aggregate temperature data\n",
        "temp_summary = df.groupby('month')['temp'].agg(['min', 'max']).reset_index().rename(columns={'min': 'Low_Temp', 'max': 'High_Temp'})\n",
        "print(tabulate(temp_summary, headers='keys', tablefmt='grid'))\n"
      ],
      "metadata": {
        "id": "UxO2pIH7lXyu",
        "colab": {
          "base_uri": "https://localhost:8080/"
        },
        "outputId": "537c7842-fd32-44b3-f08f-c007a03f80a5"
      },
      "execution_count": 8,
      "outputs": [
        {
          "output_type": "stream",
          "name": "stdout",
          "text": [
            "+----+---------+------------+-------------+\n",
            "|    | month   |   Low_Temp |   High_Temp |\n",
            "+====+=========+============+=============+\n",
            "|  0 | jan     |        5.2 |         5.3 |\n",
            "+----+---------+------------+-------------+\n",
            "|  1 | feb     |        4.2 |        15.7 |\n",
            "+----+---------+------------+-------------+\n",
            "|  2 | mar     |        5.3 |        18.8 |\n",
            "+----+---------+------------+-------------+\n",
            "|  3 | apr     |        5.8 |        17.6 |\n",
            "+----+---------+------------+-------------+\n",
            "|  4 | may     |       11.3 |        18   |\n",
            "+----+---------+------------+-------------+\n",
            "|  5 | jun     |       10.6 |        28   |\n",
            "+----+---------+------------+-------------+\n",
            "|  6 | jul     |       12.6 |        30.2 |\n",
            "+----+---------+------------+-------------+\n",
            "|  7 | aug     |        5.1 |        33.3 |\n",
            "+----+---------+------------+-------------+\n",
            "|  8 | sep     |        9.8 |        30.2 |\n",
            "+----+---------+------------+-------------+\n",
            "|  9 | oct     |       11.3 |        21.7 |\n",
            "+----+---------+------------+-------------+\n",
            "| 10 | nov     |       11.8 |        11.8 |\n",
            "+----+---------+------------+-------------+\n",
            "| 11 | dec     |        2.2 |         5.1 |\n",
            "+----+---------+------------+-------------+\n"
          ]
        }
      ]
    },
    {
      "cell_type": "code",
      "source": [
        "#Q3:Monthly when highest wind and lowest wind happened.\n",
        "#Output:month,highest_wind, lowest_wind\n",
        "Wind = df.groupby('month')['wind'].agg(['min', 'max']).reset_index().rename(columns={'min': 'Lowest_Wind', 'max': 'Highest_Wind'})\n",
        "print(tabulate(Wind, headers='keys', tablefmt='grid'))\n"
      ],
      "metadata": {
        "colab": {
          "base_uri": "https://localhost:8080/"
        },
        "id": "38u8cOKcfq8z",
        "outputId": "6751fe11-261f-457c-d4af-7989b0a96486"
      },
      "execution_count": 9,
      "outputs": [
        {
          "output_type": "stream",
          "name": "stdout",
          "text": [
            "+----+---------+---------------+----------------+\n",
            "|    | month   |   Lowest_Wind |   Highest_Wind |\n",
            "+====+=========+===============+================+\n",
            "|  0 | jan     |           0.9 |            3.1 |\n",
            "+----+---------+---------------+----------------+\n",
            "|  1 | feb     |           0.9 |            9.4 |\n",
            "+----+---------+---------------+----------------+\n",
            "|  2 | mar     |           0.9 |            9.4 |\n",
            "+----+---------+---------------+----------------+\n",
            "|  3 | apr     |           1.8 |            9.4 |\n",
            "+----+---------+---------------+----------------+\n",
            "|  4 | may     |           4   |            4.9 |\n",
            "+----+---------+---------------+----------------+\n",
            "|  5 | jun     |           1.3 |            9.4 |\n",
            "+----+---------+---------------+----------------+\n",
            "|  6 | jul     |           0.9 |            8   |\n",
            "+----+---------+---------------+----------------+\n",
            "|  7 | aug     |           0.4 |            8.9 |\n",
            "+----+---------+---------------+----------------+\n",
            "|  8 | sep     |           0.9 |            7.6 |\n",
            "+----+---------+---------------+----------------+\n",
            "|  9 | oct     |           0.9 |            5.4 |\n",
            "+----+---------+---------------+----------------+\n",
            "| 10 | nov     |           4.5 |            4.5 |\n",
            "+----+---------+---------------+----------------+\n",
            "| 11 | dec     |           4.9 |            8.5 |\n",
            "+----+---------+---------------+----------------+\n"
          ]
        }
      ]
    },
    {
      "cell_type": "code",
      "source": [
        "#Q4:Highest and lowest relative humidity for each month.\n",
        "#Output: month,highest_rh, lowest_rh\n",
        "Humidity = df.groupby('month')['RH'].agg(['min', 'max']).reset_index().rename(columns={'min': 'Lowest_humidity', 'max': 'Highest_humidity'})\n",
        "print(tabulate(Humidity, headers='keys', tablefmt='grid'))\n"
      ],
      "metadata": {
        "colab": {
          "base_uri": "https://localhost:8080/"
        },
        "id": "6uju3ER3ih8R",
        "outputId": "c4d4e6b4-1a0b-4eea-ef07-514f5b785ed4"
      },
      "execution_count": 10,
      "outputs": [
        {
          "output_type": "stream",
          "name": "stdout",
          "text": [
            "+----+---------+-------------------+--------------------+\n",
            "|    | month   |   Lowest_humidity |   Highest_humidity |\n",
            "+====+=========+===================+====================+\n",
            "|  0 | jan     |                78 |                100 |\n",
            "+----+---------+-------------------+--------------------+\n",
            "|  1 | feb     |                35 |                 82 |\n",
            "+----+---------+-------------------+--------------------+\n",
            "|  2 | mar     |                18 |                 99 |\n",
            "+----+---------+-------------------+--------------------+\n",
            "|  3 | apr     |                20 |                 75 |\n",
            "+----+---------+-------------------+--------------------+\n",
            "|  4 | may     |                40 |                 94 |\n",
            "+----+---------+-------------------+--------------------+\n",
            "|  5 | jun     |                25 |                 90 |\n",
            "+----+---------+-------------------+--------------------+\n",
            "|  6 | jul     |                22 |                 90 |\n",
            "+----+---------+-------------------+--------------------+\n",
            "|  7 | aug     |                19 |                 96 |\n",
            "+----+---------+-------------------+--------------------+\n",
            "|  8 | sep     |                15 |                 86 |\n",
            "+----+---------+-------------------+--------------------+\n",
            "|  9 | oct     |                24 |                 60 |\n",
            "+----+---------+-------------------+--------------------+\n",
            "| 10 | nov     |                31 |                 31 |\n",
            "+----+---------+-------------------+--------------------+\n",
            "| 11 | dec     |                21 |                 61 |\n",
            "+----+---------+-------------------+--------------------+\n"
          ]
        }
      ]
    },
    {
      "cell_type": "code",
      "source": [
        "#Q5:Join the output from questions 1-4 above.\n",
        "#Output:month,area,highest_temp, lowest_temp,highest_wind, lowest_wind,highest_rh, lowest_rh\n",
        "df1_combine = for_single_event.merge(temp_summary, on='month', how='outer')\n",
        "df2 = df1_combine.merge(Wind, on='month', how='outer')\n",
        "df3 = df2.merge(Humidity, on='month', how='outer')\n",
        "df3['month'] = pd.to_datetime(df3['month'], format='%b')\n",
        "df3.sort_values(by='month', inplace=True)\n",
        "df3['month'] = df3['month'].dt.strftime('%b')\n",
        "nan_replace = ['area', 'Low_Temp', 'High_Temp', 'Lowest_Wind', 'Lowest_humidity', 'Highest_humidity']\n",
        "df3[nan_replace] = df3[nan_replace].fillna(0) - #replacing NaN values with 0 in the specified columns.\n",
        "print(tabulate(df3, headers='keys', tablefmt='grid'))"
      ],
      "metadata": {
        "colab": {
          "base_uri": "https://localhost:8080/"
        },
        "id": "x2jJ-8NrU7dw",
        "outputId": "bb240623-d92b-46d1-d8f2-04fd86a14f00"
      },
      "execution_count": 14,
      "outputs": [
        {
          "output_type": "stream",
          "name": "stdout",
          "text": [
            "   month   area  Low_Temp  High_Temp  Lowest_Wind  Highest_Wind  \\\n",
            "10   Jan   0.00       5.2        5.3          0.9           3.1   \n",
            "5    Feb  51.78       4.2       15.7          0.9           9.4   \n",
            "8    Mar  36.85       5.3       18.8          0.9           9.4   \n",
            "4    Apr  61.13       5.8       17.6          1.8           9.4   \n",
            "7    May  38.48      11.3       18.0          4.0           4.9   \n",
            "\n",
            "    Lowest_humidity  Highest_humidity  \n",
            "10               78               100  \n",
            "5                35                82  \n",
            "8                18                99  \n",
            "4                20                75  \n",
            "7                40                94  \n",
            "+----+---------+---------+------------+-------------+---------------+----------------+-------------------+--------------------+\n",
            "|    | month   |    area |   Low_Temp |   High_Temp |   Lowest_Wind |   Highest_Wind |   Lowest_humidity |   Highest_humidity |\n",
            "+====+=========+=========+============+=============+===============+================+===================+====================+\n",
            "| 10 | Jan     |    0    |        5.2 |         5.3 |           0.9 |            3.1 |                78 |                100 |\n",
            "+----+---------+---------+------------+-------------+---------------+----------------+-------------------+--------------------+\n",
            "|  5 | Feb     |   51.78 |        4.2 |        15.7 |           0.9 |            9.4 |                35 |                 82 |\n",
            "+----+---------+---------+------------+-------------+---------------+----------------+-------------------+--------------------+\n",
            "|  8 | Mar     |   36.85 |        5.3 |        18.8 |           0.9 |            9.4 |                18 |                 99 |\n",
            "+----+---------+---------+------------+-------------+---------------+----------------+-------------------+--------------------+\n",
            "|  4 | Apr     |   61.13 |        5.8 |        17.6 |           1.8 |            9.4 |                20 |                 75 |\n",
            "+----+---------+---------+------------+-------------+---------------+----------------+-------------------+--------------------+\n",
            "|  7 | May     |   38.48 |       11.3 |        18   |           4   |            4.9 |                40 |                 94 |\n",
            "+----+---------+---------+------------+-------------+---------------+----------------+-------------------+--------------------+\n",
            "|  3 | Jun     |   70.32 |       10.6 |        28   |           1.3 |            9.4 |                25 |                 90 |\n",
            "+----+---------+---------+------------+-------------+---------------+----------------+-------------------+--------------------+\n",
            "|  2 | Jul     |  278.53 |       12.6 |        30.2 |           0.9 |            8   |                22 |                 90 |\n",
            "+----+---------+---------+------------+-------------+---------------+----------------+-------------------+--------------------+\n",
            "|  1 | Aug     |  746.28 |        5.1 |        33.3 |           0.4 |            8.9 |                19 |                 96 |\n",
            "+----+---------+---------+------------+-------------+---------------+----------------+-------------------+--------------------+\n",
            "|  0 | Sep     | 1090.84 |        9.8 |        30.2 |           0.9 |            7.6 |                15 |                 86 |\n",
            "+----+---------+---------+------------+-------------+---------------+----------------+-------------------+--------------------+\n",
            "|  6 | Oct     |   49.37 |       11.3 |        21.7 |           0.9 |            5.4 |                24 |                 60 |\n",
            "+----+---------+---------+------------+-------------+---------------+----------------+-------------------+--------------------+\n",
            "| 11 | Nov     |    0    |       11.8 |        11.8 |           4.5 |            4.5 |                31 |                 31 |\n",
            "+----+---------+---------+------------+-------------+---------------+----------------+-------------------+--------------------+\n",
            "|  9 | Dec     |   24.77 |        2.2 |         5.1 |           4.9 |            8.5 |                21 |                 61 |\n",
            "+----+---------+---------+------------+-------------+---------------+----------------+-------------------+--------------------+\n"
          ]
        }
      ]
    },
    {
      "cell_type": "code",
      "source": [
        "#Plot a group bar chart for the output in question 5.\n",
        "#For schema, see Appendix here :X-axis -> Month;Bar 1 -> highest_temp;Bar 2 -> highest_wind;Bar 3 -> highest_rh\n",
        "import seaborn as sns\n",
        "import matplotlib.pyplot as plt\n",
        "ax = df3.plot(x=\"month\", y=[\"High_Temp\", \"Highest_Wind\", \"Highest_humidity\"], kind=\"bar\", title=\"Monthly Weather Extremes\")\n",
        "ax.set_xticklabels(df3['month'], rotation=45)\n",
        "plt.xlabel('month')\n",
        "plt.ylabel('Value')\n",
        "plt.legend()\n",
        "plt.show()"
      ],
      "metadata": {
        "colab": {
          "base_uri": "https://localhost:8080/",
          "height": 488
        },
        "id": "94pe4N945JXJ",
        "outputId": "76177306-ec35-41cd-fdbe-57bab9f3408c"
      },
      "execution_count": 15,
      "outputs": [
        {
          "output_type": "display_data",
          "data": {
            "text/plain": [
              "<Figure size 640x480 with 1 Axes>"
            ],
            "image/png": "[encoded data removed]"
          },
          "metadata": {}
        }
      ]
    },
    {
      "cell_type": "code",
      "source": [
        "#Part 2\n",
        "#Q1: Find Maximum salary for each department only active employees and output requires emp_id, department, max_salary\n",
        "from google.colab import drive\n",
        "drive.mount('/content/drive')\n",
        "dept = pd.read_csv('/content/drive/MyDrive/department.csv')\n",
        "not_active = pd.read_csv('/content/drive/MyDrive/not_active.csv')\n",
        "emp = pd.read_csv('/content/drive/MyDrive/employee.csv')\n",
        "# Merging the department and salary DataFrames on emp_id\n",
        "df_merged = pd.merge(dept, emp, on='emp_id', how='inner')\n",
        "df1 = pd.merge(df_merged, not_active, on='emp_id', how='outer')\n",
        "df1['status'] = 'active'\n",
        "df1.loc[df1['emp_id'] == 3, 'status'] = 'not active'\n",
        "df1.loc[df1['emp_id'] == 7, 'status'] = 'not active'\n",
        "active_employees = df1[df1['status'] == 'active']\n",
        "sorterd_employees = active_employees.groupby('department')[['emp_id','salary']].max().reset_index()\n",
        "\n",
        "# renaming a columns as required:\n",
        "max_salary_employees.rename(columns={'salary': 'max_salary'}, inplace=True)\n",
        "\n",
        "# Print the result\n",
        "print(max_salary_employees)"
      ],
      "metadata": {
        "colab": {
          "base_uri": "https://localhost:8080/"
        },
        "id": "aCLIahFVK20O",
        "outputId": "d8bbfec2-82ab-4aea-c61e-87a9dd01014d"
      },
      "execution_count": 61,
      "outputs": [
        {
          "output_type": "stream",
          "name": "stdout",
          "text": [
            "Drive already mounted at /content/drive; to attempt to forcibly remount, call drive.mount(\"/content/drive\", force_remount=True).\n",
            "   emp_id department  max_salary\n",
            "5       6  marketing         150\n",
            "3       4      sales         140\n"
          ]
        }
      ]
    },
    {
      "cell_type": "code",
      "source": [
        "#Q2: All active/inactive employees (=emp_id) and their correspond department maximum salary:\n",
        "all_emp = df1.groupby('department')[['emp_id','salary']].max().reset_index()\n",
        "all_emp.rename(columns={'salary': 'max_salary'}, inplace=True)\n",
        "all_emp = all_emp[['emp_id', 'department', 'max_salary']]\n",
        "print(all_emp)\n"
      ],
      "metadata": {
        "colab": {
          "base_uri": "https://localhost:8080/"
        },
        "id": "ByqKWfp3RsTE",
        "outputId": "39c455ce-5f25-475c-f15a-90c2f7fb2716"
      },
      "execution_count": 62,
      "outputs": [
        {
          "output_type": "stream",
          "name": "stdout",
          "text": [
            "   emp_id department  max_salary\n",
            "0       7  marketing         250\n",
            "1       4      sales         145\n"
          ]
        }
      ]
    },
    {
      "cell_type": "markdown",
      "source": [],
      "metadata": {
        "id": "bHKzmZq7V74B"
      }
    }
  ]
}