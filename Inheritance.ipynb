{
  "nbformat": 4,
  "nbformat_minor": 0,
  "metadata": {
    "colab": {
      "provenance": [],
      "authorship_tag": "ABX9TyPoLMIw7TN2MGAZQM+VJrai",
      "include_colab_link": true
    },
    "kernelspec": {
      "name": "python3",
      "display_name": "Python 3"
    },
    "language_info": {
      "name": "python"
    }
  },
  "cells": [
    {
      "cell_type": "markdown",
      "metadata": {
        "id": "view-in-github",
        "colab_type": "text"
      },
      "source": [
        "<a href=\"https://colab.research.google.com/github/aswini-training/python/blob/main/Inheritance.ipynb\" target=\"_parent\"><img src=\"https://colab.research.google.com/assets/colab-badge.svg\" alt=\"Open In Colab\"/></a>"
      ]
    },
    {
      "cell_type": "code",
      "execution_count": null,
      "metadata": {
        "id": "ojw9ABIimJ7D"
      },
      "outputs": [],
      "source": [
        "#Inheritance allows us to define a class that inherits all the methods and properties from another class.\n",
        "\n",
        "#Parent class is the class being inherited from, also called base class.\n",
        "\n",
        "#Child class is the class that inherits from another class, also called derived class.\n",
        "\n"
      ]
    },
    {
      "cell_type": "code",
      "source": [
        "#Parent Class : Any class can be a parent class, so the syntax is the same as creating any other class,\n",
        "import numpy as np\n",
        "class details:\n",
        "  def __init__(self,fname,lname):\n",
        "   self.fname = fname\n",
        "   self.lname = lname\n",
        "\n",
        "  def name(self):\n",
        "    print(self.fname, self.lname)\n",
        "##Use the details class to create an object, and then execute the name method:\n",
        "\n",
        "Y = details(\"Aswini\", \"Mohan\")\n",
        "Y.name()\n"
      ],
      "metadata": {
        "colab": {
          "base_uri": "https://localhost:8080/"
        },
        "id": "DcKJgPlImj2j",
        "outputId": "fbb40ffa-1ede-4867-ef13-9d3814f2246a"
      },
      "execution_count": 2,
      "outputs": [
        {
          "output_type": "stream",
          "name": "stdout",
          "text": [
            "Aswini Mohan\n"
          ]
        }
      ]
    },
    {
      "cell_type": "code",
      "source": [
        "#Child class:\n",
        "#To create a class that inherits the functionality from another class, send the parent class as a parameter when creating the child.\n",
        "#Use the pass keyword when you do not want to add any other properties or methods to the class.\n",
        "class details:\n",
        "  def __init__(self,fname,lname):\n",
        "   self.fname = fname\n",
        "   self.lname = lname\n",
        "\n",
        "  def name(self):\n",
        "    print(self.fname, self.lname)\n",
        "\n",
        "class Person(details):\n",
        "  pass\n",
        "#Use the Person class to create an object, and then execute the name method:\n",
        "Y = details(\"Aswini\", \"Mohan\")\n",
        "Y.name()\n"
      ],
      "metadata": {
        "colab": {
          "base_uri": "https://localhost:8080/"
        },
        "id": "2eQr1ninnp_6",
        "outputId": "b2dc1bff-4071-429c-8b2b-d70936778c26"
      },
      "execution_count": 6,
      "outputs": [
        {
          "output_type": "stream",
          "name": "stdout",
          "text": [
            "Aswini Mohan\n"
          ]
        }
      ]
    },
    {
      "cell_type": "code",
      "source": [
        "#Adding __init__:We want to add the __init__() function to the child class (instead of the pass keyword).\n",
        "#Note: The __init__() function is called automatically every time the class is being used to create a new object.\n",
        "#When you add the __init__() function, the child class will no longer inherit the parent's __init__() function.\n",
        "#To keep the inheritance of the parent's __init__() function, add a call to the parent's __init__() function.\n"
      ],
      "metadata": {
        "id": "px5PyXSxpTUi"
      },
      "execution_count": null,
      "outputs": []
    },
    {
      "cell_type": "code",
      "source": [
        "class details:\n",
        "  def __init__(self,fname,lname):\n",
        "   self.fname = fname\n",
        "   self.lname = lname\n",
        "\n",
        "  def name(self):\n",
        "    print(self.fname, self.lname)\n",
        "\n",
        "class Person(details):\n",
        "  def __init__(self,fname,lname):\n",
        "    details.__init__(self,fname,lname)\n",
        "Y = Person(\"Aswini\", \"Mohan\")\n",
        "Y.name()"
      ],
      "metadata": {
        "colab": {
          "base_uri": "https://localhost:8080/"
        },
        "id": "XlEvo8ZEsA4E",
        "outputId": "d7fef394-c805-4312-f560-99602c675a7b"
      },
      "execution_count": 10,
      "outputs": [
        {
          "output_type": "stream",
          "name": "stdout",
          "text": [
            "Aswini Mohan\n"
          ]
        }
      ]
    },
    {
      "cell_type": "code",
      "source": [
        "#super() function: Python also has a super() function that will make the child class inherit all the methods and properties from its parent:\n",
        "\n",
        "class details:\n",
        "  def __init__(self,fname,age):\n",
        "   self.fname = fname\n",
        "   self.age = age\n",
        "\n",
        "  def name(self):\n",
        "    print(self.fname, self.age)\n",
        "\n",
        "class Person(details):\n",
        "  def __init__(self,fname,age):\n",
        "    super().__init__(fname,age)\n",
        "Y = Person(\"Aswini\", 36)\n",
        "Y.name()"
      ],
      "metadata": {
        "colab": {
          "base_uri": "https://localhost:8080/"
        },
        "id": "IOamiogVtL_0",
        "outputId": "af0f51ea-8f34-421f-db11-1adfdcacfccf"
      },
      "execution_count": 13,
      "outputs": [
        {
          "output_type": "stream",
          "name": "stdout",
          "text": [
            "Aswini 36\n"
          ]
        }
      ]
    },
    {
      "cell_type": "code",
      "source": [
        "#Add properties:\n",
        "import numpy as np\n",
        "class details:\n",
        "  def __init__(self,fname,age):\n",
        "   self.fname = fname\n",
        "   self.age = age\n",
        "\n",
        "  def name(self):#adding name as method\n",
        "    print(self.fname, self.age)\n",
        "\n",
        "class Person(details):\n",
        "  def __init__(self, fname, age, year):\n",
        "    super().__init__(fname, age)\n",
        "    self.birthyear = year\n",
        "Y = Person(\"Aswini\", 36, 1987)\n",
        "print(Y.fname, Y.age, Y.birthyear)"
      ],
      "metadata": {
        "colab": {
          "base_uri": "https://localhost:8080/"
        },
        "id": "HKhlgDyAuL94",
        "outputId": "f2796fa7-6333-4006-a1ba-b6c35c937b76"
      },
      "execution_count": 29,
      "outputs": [
        {
          "output_type": "stream",
          "name": "stdout",
          "text": [
            "Aswini 36 1987\n"
          ]
        }
      ]
    },
    {
      "cell_type": "code",
      "source": [
        "#If you add a method in the child class with the same name as a function in the parent class, the inheritance of the parent method will be overridden.\n",
        "\n",
        "class Details:\n",
        "    def __init__(self, fname, age):\n",
        "        self.fname = fname\n",
        "        self.age = age\n",
        "\n",
        "    def name(self):\n",
        "        print(f\"This is the name method in the Details class. Name: {self.fname}, Age: {self.age}\")\n",
        "\n",
        "class Person(Details):\n",
        "    def __init__(self, fname, age, birthyear):\n",
        "        super().__init__(fname, age)\n",
        "        self.birthyear = birthyear\n",
        "\n",
        "    def name(self):\n",
        "        print(f\"This is the name method in the Person class, overriding the Details method. Name: {self.fname}, Age: {self.age}, Birthyear: {self.birthyear}\")\n",
        "\n",
        "# Creating an object of the Person class to store values\n",
        "p = Person(\"John\", 30, 1992)\n",
        "\n",
        "# Calling the overridden method in the Person class\n",
        "p.name()\n"
      ],
      "metadata": {
        "colab": {
          "base_uri": "https://localhost:8080/"
        },
        "id": "ifWZV6xCyA_7",
        "outputId": "3eb3fe0c-7625-4131-edaa-938852f7b077"
      },
      "execution_count": 30,
      "outputs": [
        {
          "output_type": "stream",
          "name": "stdout",
          "text": [
            "This is the name method in the Person class, overriding the Details method. Name: John, Age: 30, Birthyear: 1992\n"
          ]
        }
      ]
    }
  ]
}