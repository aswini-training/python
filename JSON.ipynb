{
  "nbformat": 4,
  "nbformat_minor": 0,
  "metadata": {
    "colab": {
      "provenance": [],
      "authorship_tag": "ABX9TyMZ+bT+ldzDn9ilrFBKSiZj",
      "include_colab_link": true
    },
    "kernelspec": {
      "name": "python3",
      "display_name": "Python 3"
    },
    "language_info": {
      "name": "python"
    }
  },
  "cells": [
    {
      "cell_type": "markdown",
      "metadata": {
        "id": "view-in-github",
        "colab_type": "text"
      },
      "source": [
        "<a href=\"https://colab.research.google.com/github/aswini-training/python/blob/main/JSON.ipynb\" target=\"_parent\"><img src=\"https://colab.research.google.com/assets/colab-badge.svg\" alt=\"Open In Colab\"/></a>"
      ]
    },
    {
      "cell_type": "code",
      "execution_count": null,
      "metadata": {
        "id": "-ga3CiciTe-v"
      },
      "outputs": [],
      "source": [
        "#JSON stands for JavaScript Object Notation\n",
        "#JSON is a text format for storing and transporting data\n",
        "#JSON is \"self-describing\" and easy to understand\n",
        "\n",
        "#Parse JSON - Convert from JSON to Python\n",
        "#If you have a JSON string, you can parse it by using the json.loads() method.\n",
        "\n",
        "\n",
        "\n",
        "\n"
      ]
    },
    {
      "cell_type": "code",
      "source": [
        "import json\n",
        "bio = '{ \"name\":\"Ajay\", \"age\": 12, \"country\": \"USA\"}'\n",
        "j = json.loads(bio)\n",
        "print(j[\"country\"])"
      ],
      "metadata": {
        "colab": {
          "base_uri": "https://localhost:8080/"
        },
        "id": "KjODa5A5VC--",
        "outputId": "b36cfbcb-4967-40ad-c9a8-c54bf6a42072"
      },
      "execution_count": 2,
      "outputs": [
        {
          "output_type": "stream",
          "name": "stdout",
          "text": [
            "USA\n"
          ]
        }
      ]
    },
    {
      "cell_type": "code",
      "source": [
        "#python to JSON\n",
        "import json\n",
        "bio = {\n",
        "  \"name\":\"Ajay\",\n",
        "  \"age\": 12,\n",
        "  \"country\": \"USA\"\n",
        "}\n",
        "j = json.dumps(bio)\n",
        "print(j)"
      ],
      "metadata": {
        "colab": {
          "base_uri": "https://localhost:8080/"
        },
        "id": "uUFqrlL5VxUs",
        "outputId": "fccd2e4b-bdbc-4bc1-ad6c-d1061c9f9ff6"
      },
      "execution_count": 4,
      "outputs": [
        {
          "output_type": "stream",
          "name": "stdout",
          "text": [
            "{\"name\": \"Ajay\", \"age\": 12, \"country\": \"USA\"}\n"
          ]
        }
      ]
    },
    {
      "cell_type": "code",
      "source": [
        "#Convert Python objects into JSON strings, and print the values.\n",
        "\n",
        "import json\n",
        "\n",
        "print(json.dumps({\"name\": \"Ajay\", \"age\": 12}))\n",
        "print(json.dumps([\"Kentucky\", \"Illinois\"]))\n",
        "print(json.dumps((\"apple\", \"bananas\")))\n",
        "print(json.dumps(\"Good Luck\"))\n",
        "print(json.dumps(26))\n",
        "print(json.dumps(31.76))\n",
        "print(json.dumps(True))\n",
        "print(json.dumps(False))\n",
        "print(json.dumps(None))"
      ],
      "metadata": {
        "colab": {
          "base_uri": "https://localhost:8080/"
        },
        "id": "kK1yOdxjWxcz",
        "outputId": "460761ad-ebec-4d1d-dda0-6a276d086bb3"
      },
      "execution_count": 5,
      "outputs": [
        {
          "output_type": "stream",
          "name": "stdout",
          "text": [
            "{\"name\": \"Ajay\", \"age\": 12}\n",
            "[\"Kentucky\", \"Illinois\"]\n",
            "[\"apple\", \"bananas\"]\n",
            "\"Good Luck\"\n",
            "26\n",
            "31.76\n",
            "true\n",
            "false\n",
            "null\n"
          ]
        }
      ]
    }
  ]
}