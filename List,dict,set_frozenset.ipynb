{
  "nbformat": 4,
  "nbformat_minor": 0,
  "metadata": {
    "colab": {
      "provenance": [],
      "include_colab_link": true
    },
    "kernelspec": {
      "name": "python3",
      "display_name": "Python 3"
    },
    "language_info": {
      "name": "python"
    }
  },
  "cells": [
    {
      "cell_type": "markdown",
      "metadata": {
        "id": "view-in-github",
        "colab_type": "text"
      },
      "source": [
        "<a href=\"https://colab.research.google.com/github/aswini-training/python/blob/main/List%2Cdict%2Cset_frozenset.ipynb\" target=\"_parent\"><img src=\"https://colab.research.google.com/assets/colab-badge.svg\" alt=\"Open In Colab\"/></a>"
      ]
    },
    {
      "cell_type": "code",
      "execution_count": null,
      "metadata": {
        "colab": {
          "base_uri": "https://localhost:8080/"
        },
        "id": "Zj4peDkQF3XX",
        "outputId": "eda5dc94-7285-48eb-ae36-62454552f8a7"
      },
      "outputs": [
        {
          "output_type": "stream",
          "name": "stdout",
          "text": [
            "Unique elements: {'Cherry', 'Apple', 'Kiwi', 'Mango', 'Banana'}\n",
            "After adding new element: {'Cherry', 'Apple', 'Orange', 'Kiwi', 'Mango', 'Banana'}\n",
            "Size of the set: 6\n",
            "Apple is present in the set: True\n",
            "Mango is present in the set: True\n",
            "After removing element: {'Cherry', 'Apple', 'Orange', 'Kiwi', 'Banana'}\n",
            "After discarding element: {'Cherry', 'Apple', 'Orange', 'Kiwi', 'Banana'}\n",
            "{'Onion', 'Cherry', 'Cabbage', 'Spinach', 'Kiwi', 'Banana', 'Apple', 'Orange', 'Tomato'}\n"
          ]
        }
      ],
      "source": [
        "#set is unordered , unchangeable and does not allow duplicate value . set are mutable u can add / remove  elements using bulit in function (add/ remove)\n",
        "fruits = {\"Apple\", \"Banana\", \"Cherry\", \"Apple\", \"Kiwi\",\"Mango\"}\n",
        "vegetables = {\"Tomato\", \"Onion\", \"Cabbage\", \"Spinach\"}\n",
        "\n",
        "print('Unique elements:', fruits)\n",
        "\n",
        "# Add new fruit\n",
        "fruits.add(\"Orange\")\n",
        "print('After adding new element:', fruits)\n",
        "\n",
        "# Size of the set\n",
        "print('Size of the set:', len(fruits))\n",
        "\n",
        "# check if the element is present in the set\n",
        "print('Apple is present in the set:', \"Apple\" in fruits)\n",
        "print('Mango is present in the set:', \"Mango\" in fruits)\n",
        "\n",
        "# Remove and discard can be used to remove the element from the set\n",
        "fruits.remove(\"Mango\")\n",
        "print('After removing element:', fruits)\n",
        "\n",
        "# Discard the element from the set\n",
        "fruits.discard(\"Mango\")\n",
        "print('After discarding element:', fruits)\n",
        "\n",
        "#clear - clears the entire set\n",
        "#fruits.clear()\n",
        "#print(fruits)\n",
        "\n",
        "#update - It adds a element from one set to another set.\n",
        "fruits.update(vegetables)\n",
        "print(fruits)"
      ]
    },
    {
      "cell_type": "code",
      "source": [
        "#FrozenSet iS unordered , unchangeable without duplicate valueS but itS immmutable cannot add /remove elementS using bulit in functions\n",
        "fruits = {\"Apple\", \"Banana\", \"Cherry\", \"Apple\", \"Kiwi\"}\n",
        "fs = frozenset(fruits)\n",
        "\n",
        "print('Unique elements:', fs)\n",
        "\n"
      ],
      "metadata": {
        "id": "iQHBoL69HET_",
        "colab": {
          "base_uri": "https://localhost:8080/"
        },
        "outputId": "0ecd6912-c3ae-4da7-e5c3-c916ee3872e1"
      },
      "execution_count": null,
      "outputs": [
        {
          "output_type": "stream",
          "name": "stdout",
          "text": [
            "Unique elements: frozenset({'Banana', 'Cherry', 'Kiwi', 'Apple'})\n"
          ]
        }
      ]
    },
    {
      "cell_type": "code",
      "source": [
        "student = {\"Name\": \"John\", \"Age\": \"25\", \"Gender\": \"Male\"}\n",
        "key = frozenset(student)\n",
        "\n",
        "#print(\"The keys are:\", key student = {\"Name\": \"John\", \"Age\": \"25\", \"Gender\": \"Male\"})\n",
        "#key = frozenset(student)\n",
        "\n",
        "print(\"The keys are:\",key)\n",
        "#When you use a dictionary as an iterable for a frozen set, it only takes keys of the dictionary to create the set."
      ],
      "metadata": {
        "colab": {
          "base_uri": "https://localhost:8080/"
        },
        "id": "6zoCnW7uHmj8",
        "outputId": "e4a8f1af-4422-4eb0-a553-35a21fc8bb47"
      },
      "execution_count": null,
      "outputs": [
        {
          "output_type": "stream",
          "name": "stdout",
          "text": [
            "The keys are: frozenset({'Gender', 'Age', 'Name'})\n"
          ]
        }
      ]
    },
    {
      "cell_type": "code",
      "source": [
        "#frozenset - Frozen sets are immutable sets that allow you to perform various set operations such as union, intersection, difference, and symmetric difference.\n",
        "\n",
        "A = frozenset({1, 2, 3, 4})\n",
        "B = frozenset({3, 4, 5, 6})\n",
        "\n",
        "# copying a frozenset\n",
        "C = A.copy()\n",
        "print(C)\n",
        "\n",
        "# union\n",
        "print(A.union(B))\n",
        "\n",
        "# intersection\n",
        "print(A.intersection(B)) #intersection is defined as the set composed of all elements that belong to both A and B\n",
        "\n",
        "# difference\n",
        "print(A.difference(B)) #the set of all elements that are in A but not in B. A – B = {1, 2} since the elements 1, 2 are there in A but not in B\n",
        "\n",
        "# symmetric_difference\n",
        "print(A.symmetric_difference(B)) #he set of two or more elements which do not intersect with each other"
      ],
      "metadata": {
        "colab": {
          "base_uri": "https://localhost:8080/"
        },
        "id": "RzzAFagfPTLh",
        "outputId": "c02ef093-cb31-4625-cb37-e98fd85cbb68"
      },
      "execution_count": null,
      "outputs": [
        {
          "output_type": "stream",
          "name": "stdout",
          "text": [
            "frozenset({1, 2, 3, 4})\n",
            "frozenset({1, 2, 3, 4, 5, 6})\n",
            "frozenset({3, 4})\n",
            "frozenset({1, 2})\n",
            "frozenset({1, 2, 5, 6})\n"
          ]
        }
      ]
    },
    {
      "cell_type": "code",
      "source": [
        "#list - Lists are used to store multiple items in a single variable, Lists are created using square brackets\n",
        "#List items are ordered, changeable, and allow duplicate values.\n",
        "#ordered - List order cannot be changed and if we add item, it will be added in end of the list.\n",
        "#Changeable -The list is changeable, meaning that we can change, add, and remove items in a list after it has been created.\n",
        "#Allows Duplicates.\n",
        "\n",
        "thislist = list((\"apple\", \"banana\", \"cherry\")) # note the double round-brackets list constructor () - when we need to create a new list we can use double round parenthesis.\n",
        "print(thislist)"
      ],
      "metadata": {
        "colab": {
          "base_uri": "https://localhost:8080/"
        },
        "id": "7YBziNE0OCZt",
        "outputId": "05a11203-1790-4b41-8ce4-20e582f225ce"
      },
      "execution_count": null,
      "outputs": [
        {
          "output_type": "stream",
          "name": "stdout",
          "text": [
            "['apple', 'banana', 'cherry']\n"
          ]
        }
      ]
    },
    {
      "cell_type": "code",
      "source": [
        "# Create a list\n",
        "my_list = [10, 20, 30, 40, 50]\n",
        "\n",
        "# Access list items by index\n",
        "print(\"Element at index 2:\", my_list[2])\n",
        "\n",
        "# Access list items by negative index\n",
        "print(\"Element at index -1:\", my_list[-1])\n",
        "\n",
        "# Access a range of indexes\n",
        "print(\"Elements from index 1 to 3:\", my_list[1:4])\n",
        "\n",
        "# Access a range of negative indexes\n",
        "print(\"Elements from index -3 to -1:\", my_list[-3:-1])\n",
        "\n",
        "# Check if an item exists in the list\n",
        "item_to_check = 30\n",
        "if item_to_check in my_list:\n",
        "    print(\"item_to_check exists in the list.\")\n",
        "else:\n",
        "    print(\"item_to_check does not exist in the list.\")"
      ],
      "metadata": {
        "colab": {
          "base_uri": "https://localhost:8080/"
        },
        "id": "WHlmweFAP9ct",
        "outputId": "34f0d765-a413-4d91-bbd3-ed7afe3d7580"
      },
      "execution_count": null,
      "outputs": [
        {
          "output_type": "stream",
          "name": "stdout",
          "text": [
            "Element at index 2: 30\n",
            "Element at index -1: 50\n",
            "Elements from index 1 to 3: [20, 30, 40]\n",
            "Elements from index -3 to -1: [30, 40]\n",
            "item_to_check exists in the list.\n"
          ]
        }
      ]
    },
    {
      "cell_type": "code",
      "source": [
        "# Create a list\n",
        "c = [10, 20, 30, 40, 50]\n",
        "\n",
        "# Change item value\n",
        "c[2] = 35\n",
        "print(\"List after changing item at index 2:\",c)\n",
        "\n",
        "# Change a range of items with two values: when we insert 2 or more items in the list it will remove a index value given in c.\n",
        "c[1:4] = [15, 25, 35]\n",
        "print(\"List after changing a range of items with two values:\", c)\n",
        "\n",
        "# Change a range of items with one value\n",
        "c[2:5] = [100]\n",
        "print(\"List after changing a range of items with one value:\", c)\n",
        "\n",
        "# Append an item - # it will add a item in the end of the list.\n",
        "c.append(60)\n",
        "print(\"List after appending an item:\", c)\n",
        "\n",
        "# Insert an item at a specific index - we can insert a item in the specified index\n",
        "c.insert(2, 99)\n",
        "print(\"List after inserting an item at index 2:\", c)\n",
        "\n",
        "# Remove an item\n",
        "c.remove(15)\n",
        "print(\"List after removing item:\", c)\n",
        "\n",
        "# Remove item at a specified index\n",
        "c = [10, 15, 99, 100, 60]\n",
        "del c[3]\n",
        "print(c)\n",
        "\n",
        "# Using the del keyword to remove a range of items - #del keyword also deletes entire list completely.\n",
        "c = [10, 15, 99, 100, 60]\n",
        "del c[1:3]\n",
        "print(c)"
      ],
      "metadata": {
        "colab": {
          "base_uri": "https://localhost:8080/"
        },
        "id": "-t6NbWfZRnaj",
        "outputId": "ebdedd28-6a33-4f40-9bff-ef611a9e49ab"
      },
      "execution_count": null,
      "outputs": [
        {
          "output_type": "stream",
          "name": "stdout",
          "text": [
            "List after changing item at index 2: [10, 20, 35, 40, 50]\n",
            "List after changing a range of items with two values: [10, 15, 25, 35, 50]\n",
            "List after changing a range of items with one value: [10, 15, 100]\n",
            "List after appending an item: [10, 15, 100, 60]\n",
            "List after inserting an item at index 2: [10, 15, 99, 100, 60]\n",
            "List after removing item: [10, 99, 100, 60]\n",
            "[10, 15, 99, 60]\n",
            "[10, 100, 60]\n"
          ]
        }
      ]
    },
    {
      "cell_type": "code",
      "source": [
        "#Loop in List\n",
        "#for loop with break and continue statement\n",
        "odd = [6,7,8,9,5]\n",
        "print(odd)\n",
        "for i in odd:\n",
        "  if i % 2 == 0:\n",
        "    print(str(i) + \" is even.\")\n",
        "  else:\n",
        "    print(str(i) + \" is odd.\")\n",
        "\n"
      ],
      "metadata": {
        "colab": {
          "base_uri": "https://localhost:8080/"
        },
        "id": "AulKg6UwWRXV",
        "outputId": "bf3362c0-5f41-4d9b-a835-797ae6980a41"
      },
      "execution_count": null,
      "outputs": [
        {
          "output_type": "stream",
          "name": "stdout",
          "text": [
            "[6, 7, 8, 9, 5]\n",
            "6 is even.\n",
            "7 is odd.\n",
            "8 is even.\n",
            "9 is odd.\n",
            "5 is odd.\n"
          ]
        }
      ]
    },
    {
      "cell_type": "code",
      "source": [
        "#break statement - loop will be stopped when i=9\n",
        "odd = [6, 7, 8, 9, 5]\n",
        "for i in odd:\n",
        "  print(i)\n",
        "  if i == 9:\n",
        "    break"
      ],
      "metadata": {
        "colab": {
          "base_uri": "https://localhost:8080/"
        },
        "id": "NL1s-5EUg3Dc",
        "outputId": "bcb3ea49-b727-4ce3-fe24-37a7dcb11aab"
      },
      "execution_count": 13,
      "outputs": [
        {
          "output_type": "stream",
          "name": "stdout",
          "text": [
            "6\n",
            "7\n",
            "8\n",
            "9\n"
          ]
        }
      ]
    },
    {
      "cell_type": "code",
      "source": [
        "#continue statement - continue statement we can stop the current iteration of the loop, and continue with the next.\n",
        "odd = [6,7,8,9,5]\n",
        "for i in odd:\n",
        "    if i == 8:\n",
        "     continue\n",
        "    print(i)\n"
      ],
      "metadata": {
        "colab": {
          "base_uri": "https://localhost:8080/"
        },
        "id": "DfJ1qHYghzie",
        "outputId": "7e60e7f6-f9ee-432a-d3a3-2e2228f90a7e"
      },
      "execution_count": null,
      "outputs": [
        {
          "output_type": "stream",
          "name": "stdout",
          "text": [
            "6\n",
            "7\n",
            "9\n",
            "5\n"
          ]
        }
      ]
    },
    {
      "cell_type": "code",
      "source": [
        "#We can also loop through the list items by referring to their index number.\n",
        "Number = [6,7,8,9,5]\n",
        "for i in range(len(Number)):\n",
        "  print(Number[i])\n",
        "\n",
        "\n",
        "Number = [6,7,8,9,5]\n",
        "for i in range(0,2):\n",
        "   print(Number[i])\n",
        "\n"
      ],
      "metadata": {
        "colab": {
          "base_uri": "https://localhost:8080/"
        },
        "id": "e66Y24SX2KJ6",
        "outputId": "822b7132-1ed0-4227-a090-0cbe2f569683"
      },
      "execution_count": 24,
      "outputs": [
        {
          "output_type": "stream",
          "name": "stdout",
          "text": [
            "6\n",
            "7\n",
            "8\n",
            "9\n",
            "5\n",
            "6\n",
            "7\n"
          ]
        }
      ]
    },
    {
      "cell_type": "code",
      "source": [
        "#List Sort - To sort descending order, we need to use the keyword argument (reverse = True)\n",
        "Number = [100, 50, 65, 82, 23]\n",
        "Number.sort()\n",
        "print(Number)"
      ],
      "metadata": {
        "colab": {
          "base_uri": "https://localhost:8080/"
        },
        "id": "ebMbHtU24l90",
        "outputId": "3e258568-0bf6-4f6c-fc98-244b914fd9c7"
      },
      "execution_count": 25,
      "outputs": [
        {
          "output_type": "stream",
          "name": "stdout",
          "text": [
            "[23, 50, 65, 82, 100]\n"
          ]
        }
      ]
    },
    {
      "cell_type": "code",
      "source": [
        "#Joining two listes using +,append,extend\n",
        "\n",
        "list1 = [\"Ravi\", \"Mohan\", \"Kumar\"]\n",
        "list2 = [1, 2, 3]\n",
        "\n",
        "list3 = list1 + list2\n",
        "print(list3)\n",
        "\n",
        "#Append\n",
        "list1 = [\"Ravi\", \"Mohan\", \"Kumar\"]\n",
        "list2 = [1, 2, 3]\n",
        "for x in list2:\n",
        "   list1.append(x)\n",
        "print(list1)\n",
        "\n",
        "#extend()\n",
        "list1 = [\"Ravi\", \"Mohan\", \"Kumar\"]\n",
        "list2 = [1, 2, 3]\n",
        "list1.extend(list2)\n",
        "print(list1)"
      ],
      "metadata": {
        "colab": {
          "base_uri": "https://localhost:8080/"
        },
        "id": "IenDP0Kb5IjC",
        "outputId": "7f9d7463-5688-4193-83ab-6847f8b4dcbf"
      },
      "execution_count": 31,
      "outputs": [
        {
          "output_type": "stream",
          "name": "stdout",
          "text": [
            "['Ravi', 'Mohan', 'Kumar', 1, 2, 3]\n",
            "['Ravi', 'Mohan', 'Kumar', 1, 2, 3]\n",
            "['Ravi', 'Mohan', 'Kumar', 1, 2, 3]\n"
          ]
        }
      ]
    }
  ]
}