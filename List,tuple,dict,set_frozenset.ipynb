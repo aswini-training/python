{
  "nbformat": 4,
  "nbformat_minor": 0,
  "metadata": {
    "colab": {
      "provenance": [],
      "include_colab_link": true
    },
    "kernelspec": {
      "name": "python3",
      "display_name": "Python 3"
    },
    "language_info": {
      "name": "python"
    }
  },
  "cells": [
    {
      "cell_type": "markdown",
      "metadata": {
        "id": "view-in-github",
        "colab_type": "text"
      },
      "source": [
        "<a href=\"https://colab.research.google.com/github/aswini-training/python/blob/main/List%2Ctuple%2Cdict%2Cset_frozenset.ipynb\" target=\"_parent\"><img src=\"https://colab.research.google.com/assets/colab-badge.svg\" alt=\"Open In Colab\"/></a>"
      ]
    },
    {
      "cell_type": "code",
      "execution_count": null,
      "metadata": {
        "colab": {
          "base_uri": "https://localhost:8080/"
        },
        "id": "Zj4peDkQF3XX",
        "outputId": "3cf94f23-df17-4aed-9f2c-7c5db976ba4b"
      },
      "outputs": [
        {
          "output_type": "stream",
          "name": "stdout",
          "text": [
            "Unique elements: {'Apple', 'Cherry', 'Banana', 'Mango', 'Kiwi'}\n",
            "After adding new element: {'Apple', 'Cherry', 'Orange', 'Banana', 'Mango', 'Kiwi'}\n",
            "Size of the set: 6\n",
            "Apple is present in the set: True\n",
            "Mango is present in the set: True\n",
            "After removing element: {'Apple', 'Cherry', 'Orange', 'Banana', 'Kiwi'}\n",
            "After discarding element: {'Apple', 'Cherry', 'Orange', 'Banana', 'Kiwi'}\n"
          ]
        }
      ],
      "source": [
        "#set is unordered , unchangeable and does not allow duplicate value . set are mutable u can add / remove  elements using bulit in function (add/ remove)\n",
        "fruits = {\"Apple\", \"Banana\", \"Cherry\", \"Apple\", \"Kiwi\",\"Mango\"}\n",
        "\n",
        "print('Unique elements:', fruits)\n",
        "\n",
        "# Add new fruit\n",
        "fruits.add(\"Orange\")\n",
        "print('After adding new element:', fruits)\n",
        "\n",
        "# Size of the set\n",
        "print('Size of the set:', len(fruits))\n",
        "\n",
        "# check if the element is present in the set\n",
        "print('Apple is present in the set:', \"Apple\" in fruits)\n",
        "print('Mango is present in the set:', \"Mango\" in fruits)\n",
        "\n",
        "# Remove the element from the set\n",
        "fruits.remove(\"Mango\")\n",
        "print('After removing element:', fruits)\n",
        "\n",
        "# Discard the element from the set\n",
        "fruits.discard(\"Mango\")\n",
        "print('After discarding element:', fruits)"
      ]
    },
    {
      "cell_type": "code",
      "source": [
        "#FrozenSet iS unordered , unchangeable without duplicate valueS but itS immmutable cannot add /remove elementS using bulit in functions\n",
        "fruits = {\"Apple\", \"Banana\", \"Cherry\", \"Apple\", \"Kiwi\"}\n",
        "basket = frozenset(fruits)\n",
        "\n",
        "print('Unique elements:', basket)\n",
        "\n",
        "# Add new fruit throws an error!\n",
        "basket.add(\"Orange\")\n",
        "print('After adding new element:', basket)\n"
      ],
      "metadata": {
        "colab": {
          "base_uri": "https://localhost:8080/",
          "height": 254
        },
        "id": "iQHBoL69HET_",
        "outputId": "8fd842de-c6fe-4b9b-8242-0f88bcbe71f6"
      },
      "execution_count": null,
      "outputs": [
        {
          "output_type": "stream",
          "name": "stdout",
          "text": [
            "Unique elements: frozenset({'Apple', 'Cherry', 'Kiwi', 'Banana'})\n"
          ]
        },
        {
          "output_type": "error",
          "ename": "AttributeError",
          "evalue": "ignored",
          "traceback": [
            "\u001b[0;31m---------------------------------------------------------------------------\u001b[0m",
            "\u001b[0;31mAttributeError\u001b[0m                            Traceback (most recent call last)",
            "\u001b[0;32m<ipython-input-3-111a1ea22a02>\u001b[0m in \u001b[0;36m<cell line: 8>\u001b[0;34m()\u001b[0m\n\u001b[1;32m      6\u001b[0m \u001b[0;34m\u001b[0m\u001b[0m\n\u001b[1;32m      7\u001b[0m \u001b[0;31m# Add new fruit throws an error!\u001b[0m\u001b[0;34m\u001b[0m\u001b[0;34m\u001b[0m\u001b[0m\n\u001b[0;32m----> 8\u001b[0;31m \u001b[0mbasket\u001b[0m\u001b[0;34m.\u001b[0m\u001b[0madd\u001b[0m\u001b[0;34m(\u001b[0m\u001b[0;34m\"Orange\"\u001b[0m\u001b[0;34m)\u001b[0m\u001b[0;34m\u001b[0m\u001b[0;34m\u001b[0m\u001b[0m\n\u001b[0m\u001b[1;32m      9\u001b[0m \u001b[0mprint\u001b[0m\u001b[0;34m(\u001b[0m\u001b[0;34m'After adding new element:'\u001b[0m\u001b[0;34m,\u001b[0m \u001b[0mbasket\u001b[0m\u001b[0;34m)\u001b[0m\u001b[0;34m\u001b[0m\u001b[0;34m\u001b[0m\u001b[0m\n",
            "\u001b[0;31mAttributeError\u001b[0m: 'frozenset' object has no attribute 'add'"
          ]
        }
      ]
    },
    {
      "cell_type": "code",
      "source": [
        "student = {\"Name\": \"John\", \"Age\": \"25\", \"Gender\": \"Male\"}  #iterate\n",
        "key = frozenset(student)\n",
        "\n",
        "#print(\"The keys are:\", key student = {\"Name\": \"John\", \"Age\": \"25\", \"Gender\": \"Male\"})\n",
        "#key = frozenset(student)\n",
        "\n",
        "print(\"The keys are:\",key)\n",
        "#When you use a dictionary as an iterable for a frozen set, it only takes keys of the dictionary to create the set."
      ],
      "metadata": {
        "colab": {
          "base_uri": "https://localhost:8080/"
        },
        "id": "6zoCnW7uHmj8",
        "outputId": "e4a8f1af-4422-4eb0-a553-35a21fc8bb47"
      },
      "execution_count": null,
      "outputs": [
        {
          "output_type": "stream",
          "name": "stdout",
          "text": [
            "The keys are: frozenset({'Gender', 'Age', 'Name'})\n"
          ]
        }
      ]
    },
    {
      "cell_type": "code",
      "source": [
        "#list - Lists are used to store multiple items in a single variable, Lists are created using square brackets\n",
        "#List items are ordered, changeable, and allow duplicate values.\n",
        "#ordered - List order cannot be changed and if we add item, it will be added in end of the list.\n",
        "#Changeable -The list is changeable, meaning that we can change, add, and remove items in a list after it has been created.\n",
        "#Allows Duplicates.\n",
        "\n",
        "thislist = list((\"apple\", \"banana\", \"cherry\")) # note the double round-brackets list constructor () - when we need to create a new list we can use double round parenthesis.\n",
        "print(thislist)"
      ],
      "metadata": {
        "colab": {
          "base_uri": "https://localhost:8080/"
        },
        "id": "7YBziNE0OCZt",
        "outputId": "05a11203-1790-4b41-8ce4-20e582f225ce"
      },
      "execution_count": null,
      "outputs": [
        {
          "output_type": "stream",
          "name": "stdout",
          "text": [
            "['apple', 'banana', 'cherry']\n"
          ]
        }
      ]
    },
    {
      "cell_type": "code",
      "source": [
        "# Create a list\n",
        "my_list = [10, 20, 30, 40, 50]\n",
        "\n",
        "# Access list items by index\n",
        "print(\"Element at index 2:\", my_list[2])\n",
        "\n",
        "# Access list items by negative index\n",
        "print(\"Element at index -1:\", my_list[-1])\n",
        "\n",
        "# Access a range of indexes\n",
        "print(\"Elements from index 1 to 3:\", my_list[1:4])\n",
        "\n",
        "# Access a range of negative indexes\n",
        "print(\"Elements from index -3 to -1:\", my_list[-3:-1])\n",
        "\n",
        "# Check if an item exists in the list\n",
        "item_to_check = 30\n",
        "if item_to_check in my_list:\n",
        "    print(\"item_to_check exists in the list.\")\n",
        "else:\n",
        "    print(\"item_to_check does not exist in the list.\")"
      ],
      "metadata": {
        "colab": {
          "base_uri": "https://localhost:8080/"
        },
        "id": "WHlmweFAP9ct",
        "outputId": "34f0d765-a413-4d91-bbd3-ed7afe3d7580"
      },
      "execution_count": null,
      "outputs": [
        {
          "output_type": "stream",
          "name": "stdout",
          "text": [
            "Element at index 2: 30\n",
            "Element at index -1: 50\n",
            "Elements from index 1 to 3: [20, 30, 40]\n",
            "Elements from index -3 to -1: [30, 40]\n",
            "item_to_check exists in the list.\n"
          ]
        }
      ]
    },
    {
      "cell_type": "code",
      "source": [
        "# Create a list\n",
        "c = [10, 20, 30, 40, 50]\n",
        "\n",
        "# Change item value\n",
        "c[2] = 35\n",
        "print(\"List after changing item at index 2:\",c)\n",
        "\n",
        "# Change a range of items with two values: when we insert 2 or more items in the list it will remove a index value given in c.\n",
        "c[1:4] = [15, 25, 35]\n",
        "print(\"List after changing a range of items with two values:\", c)\n",
        "\n",
        "# Change a range of items with one value\n",
        "c[2:5] = [100]\n",
        "print(\"List after changing a range of items with one value:\", c)\n",
        "\n",
        "# Append an item - # it will add a item in the end of the list.\n",
        "c.append(60)\n",
        "print(\"List after appending an item:\", c)\n",
        "\n",
        "# Insert an item at a specific index - we can insert a item in the specified index\n",
        "c.insert(2, 99)\n",
        "print(\"List after inserting an item at index 2:\", c)\n",
        "\n",
        "# Remove an item\n",
        "c.remove(15)\n",
        "print(\"List after removing item:\", c)\n",
        "\n",
        "# Remove item at a specified index\n",
        "c = [10, 15, 99, 100, 60]\n",
        "del c[3]\n",
        "print(c)\n",
        "\n",
        "# Using the del keyword to remove a range of items - #del keyword also deletes entire list completely.\n",
        "c = [10, 15, 99, 100, 60]\n",
        "del c[1:3]\n",
        "print(c)"
      ],
      "metadata": {
        "colab": {
          "base_uri": "https://localhost:8080/"
        },
        "id": "-t6NbWfZRnaj",
        "outputId": "ebdedd28-6a33-4f40-9bff-ef611a9e49ab"
      },
      "execution_count": null,
      "outputs": [
        {
          "output_type": "stream",
          "name": "stdout",
          "text": [
            "List after changing item at index 2: [10, 20, 35, 40, 50]\n",
            "List after changing a range of items with two values: [10, 15, 25, 35, 50]\n",
            "List after changing a range of items with one value: [10, 15, 100]\n",
            "List after appending an item: [10, 15, 100, 60]\n",
            "List after inserting an item at index 2: [10, 15, 99, 100, 60]\n",
            "List after removing item: [10, 99, 100, 60]\n",
            "[10, 15, 99, 60]\n",
            "[10, 100, 60]\n"
          ]
        }
      ]
    }
  ]
}