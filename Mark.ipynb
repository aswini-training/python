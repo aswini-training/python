{
  "nbformat": 4,
  "nbformat_minor": 0,
  "metadata": {
    "colab": {
      "provenance": [],
      "authorship_tag": "ABX9TyNal2MmYpeAJWkV/zQW1lRs",
      "include_colab_link": true
    },
    "kernelspec": {
      "name": "python3",
      "display_name": "Python 3"
    },
    "language_info": {
      "name": "python"
    }
  },
  "cells": [
    {
      "cell_type": "markdown",
      "metadata": {
        "id": "view-in-github",
        "colab_type": "text"
      },
      "source": [
        "<a href=\"https://colab.research.google.com/github/aswini-training/python/blob/main/Mark.ipynb\" target=\"_parent\"><img src=\"https://colab.research.google.com/assets/colab-badge.svg\" alt=\"Open In Colab\"/></a>"
      ]
    },
    {
      "cell_type": "code",
      "execution_count": 28,
      "metadata": {
        "colab": {
          "base_uri": "https://localhost:8080/"
        },
        "id": "Ufg3lo-zgKK0",
        "outputId": "36d1a68a-2d51-441c-9e86-dc12793b6c49"
      },
      "outputs": [
        {
          "output_type": "stream",
          "name": "stdout",
          "text": [
            "60\n",
            "180\n",
            "270\n",
            "225\n"
          ]
        }
      ],
      "source": [
        "def students(Sub1, Sub2, Sub3):\n",
        "    studentsmark = (Sub1, Sub2, Sub3)\n",
        "    total = sum(studentsmark)\n",
        "    #return total\n",
        "    print(total)\n",
        "\n",
        "def StudentsMarks():\n",
        "    TotalMarks=(10,20,30)\n",
        "    total=sum(TotalMarks)\n",
        "    print(total)\n",
        "\n",
        "StudentsMarks()\n",
        "students(50,60,70)\n",
        "students(80,90,100)\n",
        "students(65,75,85)\n",
        ""
      ]
    }
  ]
}