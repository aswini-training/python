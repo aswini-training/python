{
  "nbformat": 4,
  "nbformat_minor": 0,
  "metadata": {
    "colab": {
      "provenance": [],
      "mount_file_id": "1wGzdiSmeEVyMwQoHkw7Uv_VE1hmoyIZl",
      "authorship_tag": "ABX9TyNvKYQTJdKPUpxC50ibSbjL",
      "include_colab_link": true
    },
    "kernelspec": {
      "name": "python3",
      "display_name": "Python 3"
    },
    "language_info": {
      "name": "python"
    }
  },
  "cells": [
    {
      "cell_type": "markdown",
      "metadata": {
        "id": "view-in-github",
        "colab_type": "text"
      },
      "source": [
        "<a href=\"https://colab.research.google.com/github/aswini-training/python/blob/main/Merge_inplace_and_sort.ipynb\" target=\"_parent\"><img src=\"https://colab.research.google.com/assets/colab-badge.svg\" alt=\"Open In Colab\"/></a>"
      ]
    },
    {
      "cell_type": "code",
      "execution_count": 12,
      "metadata": {
        "colab": {
          "base_uri": "https://localhost:8080/"
        },
        "id": "C1Ghzaj8vIAV",
        "outputId": "ecb6bc55-6c85-4327-9d6d-be69553162df"
      },
      "outputs": [
        {
          "output_type": "stream",
          "name": "stdout",
          "text": [
            "Drive already mounted at /content/drive; to attempt to forcibly remount, call drive.mount(\"/content/drive\", force_remount=True).\n",
            "   EmpID      Name  Total        Country  True\n",
            "2     30   Micheal    120         France  both\n",
            "1     20     Aleen     90  Great Britain  both\n",
            "6     70    Pushpa     42  Great Britain  both\n",
            "0     10     Karan     45  United States  both\n",
            "3     40      Tara     34  United States  both\n",
            "4     50  Pavithra     67  United States  both\n",
            "5     60     Kevin     78  United States  both\n",
            "7     80      Ajay     16  United States  both\n",
            "8     90     Arjun      4  United States  both\n"
          ]
        }
      ],
      "source": [
        "#merge - inplace and sort - If inplace is true the changes in data will be seen and if it is false there will be no change.\n",
        "#here inplace is used with sort_values.\n",
        "import pandas as pd\n",
        "import numpy as np\n",
        "from google.colab import drive\n",
        "drive.mount('/content/drive')\n",
        "df1 = pd.read_excel(\"/content/drive/MyDrive/Colab Notebooks/Bonus (2).xlsx\")\n",
        "df2 = pd.read_excel(\"/content/drive/MyDrive/Colab Notebooks/Sample.xlsx\")\n",
        "df3 = df1.merge(df2, on=[\"EmpID\",\"Name\"], how=\"inner\", indicator=\"True\",)\n",
        "df3.sort_values(by=\"Country\", inplace=True)\n",
        "print(df3)"
      ]
    }
  ]
}