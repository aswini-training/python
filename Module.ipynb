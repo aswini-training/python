{
  "nbformat": 4,
  "nbformat_minor": 0,
  "metadata": {
    "colab": {
      "provenance": [],
      "mount_file_id": "1dLHKJhwgA2WvLSZXQoIiT0E_-CUa8mPg",
      "authorship_tag": "ABX9TyPWJtxfXIR5gi0UEpLkW3Jy",
      "include_colab_link": true
    },
    "kernelspec": {
      "name": "python3",
      "display_name": "Python 3"
    },
    "language_info": {
      "name": "python"
    }
  },
  "cells": [
    {
      "cell_type": "markdown",
      "metadata": {
        "id": "view-in-github",
        "colab_type": "text"
      },
      "source": [
        "<a href=\"https://colab.research.google.com/github/aswini-training/python/blob/main/Module.ipynb\" target=\"_parent\"><img src=\"https://colab.research.google.com/assets/colab-badge.svg\" alt=\"Open In Colab\"/></a>"
      ]
    },
    {
      "cell_type": "code",
      "execution_count": 15,
      "metadata": {
        "id": "MIffHo2o03sO",
        "colab": {
          "base_uri": "https://localhost:8080/"
        },
        "outputId": "8dc92dca-3c21-4dd6-fa6e-e8efe5ece54e"
      },
      "outputs": [
        {
          "output_type": "stream",
          "name": "stdout",
          "text": [
            "Drive already mounted at /content/drive; to attempt to forcibly remount, call drive.mount(\"/content/drive\", force_remount=True).\n",
            "C\n"
          ]
        }
      ],
      "source": [
        "#Module - A module is a file containing Python definitions and statements.\n",
        "#The file name is the module name with the suffix .py appended.\n",
        "#Dowloaded dict.ipynb as .py extension in this program\n",
        "#created a module by downloading a file as .py and saves in Colab notebook to access in this program by mount.\n",
        "#import sys to access the path of the file.\n",
        "#import dict(file name) as a module.\n",
        "#Here dict function and there elements can be accessed through the program by importing dict.\n",
        "\n",
        "from google.colab import drive\n",
        "drive.mount('/content/drive')\n",
        "import sys\n",
        "sys.path.insert(0,'/content/drive/MyDrive/Colab Notebooks')\n",
        "import dict\n",
        "a = dict.thisdict[\"Name\"]\n",
        "print(a)"
      ]
    }
  ]
}