{
  "nbformat": 4,
  "nbformat_minor": 0,
  "metadata": {
    "colab": {
      "provenance": [],
      "authorship_tag": "ABX9TyOlOjSsa0yHXir/t8crB1HP",
      "include_colab_link": true
    },
    "kernelspec": {
      "name": "python3",
      "display_name": "Python 3"
    },
    "language_info": {
      "name": "python"
    }
  },
  "cells": [
    {
      "cell_type": "markdown",
      "metadata": {
        "id": "view-in-github",
        "colab_type": "text"
      },
      "source": [
        "<a href=\"https://colab.research.google.com/github/aswini-training/python/blob/main/Prime_number.ipynb\" target=\"_parent\"><img src=\"https://colab.research.google.com/assets/colab-badge.svg\" alt=\"Open In Colab\"/></a>"
      ]
    },
    {
      "cell_type": "code",
      "execution_count": null,
      "metadata": {
        "colab": {
          "base_uri": "https://localhost:8080/"
        },
        "id": "b9HqTBiw2CqJ",
        "outputId": "b3de0786-9a84-47f6-8477-7c4dd9650cda"
      },
      "outputs": [
        {
          "output_type": "stream",
          "name": "stdout",
          "text": [
            "Enter the number: 13\n",
            "13 is a prime number\n"
          ]
        }
      ],
      "source": [
        "#prime number\n",
        "import numpy as np\n",
        "\n",
        "num = int(input(\"Enter the number: \"))\n",
        "\n",
        "if num > 1:\n",
        "# check for factors\n",
        "    for i in range(2,num):\n",
        "        if (num % i) == 0:\n",
        "         print(num,\"is not a prime number\")\n",
        "         break\n",
        "    else:\n",
        "             print(num,\"is a prime number\")\n",
        "#if input number is less than\n",
        "# or equal to 1, it is not prime\n",
        "else:\n",
        "     print(num,\"is not a prime number\")"
      ]
    },
    {
      "cell_type": "code",
      "source": [
        "#Check if list is sorted\n",
        "import numpy as np\n",
        "\n",
        "listA = [11,24,13,51,67]\n",
        "#Given list\n",
        "print(\"Given list : \",listA)\n",
        "listA_copy = listA[:]\n",
        "# Apply sort to copy\n",
        "listA_copy.sort()\n",
        "if (listA == listA_copy):\n",
        "        print(\"Yes, List is sorted.\")\n",
        "else:\n",
        "        print(\"No, List is not sorted.\")"
      ],
      "metadata": {
        "id": "qQKo_RsV2FDJ",
        "outputId": "173266fa-c82a-42e5-b7a9-9709b463508e",
        "colab": {
          "base_uri": "https://localhost:8080/"
        }
      },
      "execution_count": null,
      "outputs": [
        {
          "output_type": "stream",
          "name": "stdout",
          "text": [
            "Given list :  [11, 24, 13, 51, 67]\n",
            "No, List is not sorted.\n"
          ]
        }
      ]
    },
    {
      "cell_type": "code",
      "source": [
        "#3. Write code that checks if two lists are equal.\n",
        "import numpy as np\n",
        "list1 = [4,5,6,7]\n",
        "list2 = [4,5,6,7]\n",
        "\n"
      ],
      "metadata": {
        "id": "zNx1XdLXquvR"
      },
      "execution_count": null,
      "outputs": []
    }
  ]
}