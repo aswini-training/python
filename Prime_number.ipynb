{
  "nbformat": 4,
  "nbformat_minor": 0,
  "metadata": {
    "colab": {
      "provenance": [],
      "authorship_tag": "ABX9TyP9zvt0sfbpcvLm+511xWch",
      "include_colab_link": true
    },
    "kernelspec": {
      "name": "python3",
      "display_name": "Python 3"
    },
    "language_info": {
      "name": "python"
    }
  },
  "cells": [
    {
      "cell_type": "markdown",
      "metadata": {
        "id": "view-in-github",
        "colab_type": "text"
      },
      "source": [
        "<a href=\"https://colab.research.google.com/github/aswini-training/python/blob/main/Prime_number.ipynb\" target=\"_parent\"><img src=\"https://colab.research.google.com/assets/colab-badge.svg\" alt=\"Open In Colab\"/></a>"
      ]
    },
    {
      "cell_type": "code",
      "execution_count": null,
      "metadata": {
        "colab": {
          "base_uri": "https://localhost:8080/"
        },
        "id": "b9HqTBiw2CqJ",
        "outputId": "b3de0786-9a84-47f6-8477-7c4dd9650cda"
      },
      "outputs": [
        {
          "output_type": "stream",
          "name": "stdout",
          "text": [
            "Enter the number: 13\n",
            "13 is a prime number\n"
          ]
        }
      ],
      "source": [
        "#prime number\n",
        "import numpy as np\n",
        "\n",
        "num = int(input(\"Enter the number: \"))\n",
        "\n",
        "if num > 1:\n",
        "# check for factors\n",
        "    for i in range(2,num):\n",
        "        if (num % i) == 0:\n",
        "         print(num,\"is not a prime number\")\n",
        "         break\n",
        "    else:\n",
        "             print(num,\"is a prime number\")\n",
        "#if input number is less than\n",
        "# or equal to 1, it is not prime\n",
        "else:\n",
        "     print(num,\"is not a prime number\")"
      ]
    },
    {
      "cell_type": "code",
      "source": [
        "#Check if list is sorted\n",
        "import numpy as np\n",
        "\n",
        "listA = [11,24,13,51,67]\n",
        "#Given list\n",
        "print(\"Given list : \",listA)\n",
        "listA_copy = listA[:]\n",
        "# Apply sort to copy\n",
        "listA_copy.sort()\n",
        "if (listA == listA_copy):\n",
        "        print(\"Yes, List is sorted.\")\n",
        "else:\n",
        "        print(\"No, List is not sorted.\")"
      ],
      "metadata": {
        "id": "qQKo_RsV2FDJ",
        "outputId": "173266fa-c82a-42e5-b7a9-9709b463508e",
        "colab": {
          "base_uri": "https://localhost:8080/"
        }
      },
      "execution_count": null,
      "outputs": [
        {
          "output_type": "stream",
          "name": "stdout",
          "text": [
            "Given list :  [11, 24, 13, 51, 67]\n",
            "No, List is not sorted.\n"
          ]
        }
      ]
    },
    {
      "cell_type": "code",
      "source": [
        "#3. Write code that checks if two lists are equal.\n",
        "import numpy as np\n",
        "list1 = [4,5,6,7]\n",
        "list2 = [4,5,8,7]\n",
        "if list1 == list2:\n",
        "  print(\"Yes\")\n",
        "else:\n",
        "  print(\"No\")\n",
        "\n",
        "\n"
      ],
      "metadata": {
        "id": "zNx1XdLXquvR",
        "colab": {
          "base_uri": "https://localhost:8080/"
        },
        "outputId": "827153bc-9abc-42ca-964e-1c0325a9fd9c"
      },
      "execution_count": 5,
      "outputs": [
        {
          "output_type": "stream",
          "name": "stdout",
          "text": [
            "No\n"
          ]
        }
      ]
    },
    {
      "cell_type": "code",
      "source": [
        "import pandas as pd\n",
        "import numpy as np\n",
        "\n",
        "def isPalindrome(s):\n",
        "    return s == s[::-1]\n",
        "\n",
        "s = \"madam\"\n",
        "ans = isPalindrome(s)\n",
        "\n",
        "if ans:\n",
        "    print(\"Yes\")\n",
        "else:\n",
        "    print(\"No\")"
      ],
      "metadata": {
        "colab": {
          "base_uri": "https://localhost:8080/"
        },
        "id": "lYBN1jWj63bA",
        "outputId": "7daceaa8-73ba-4138-f1d1-a92744b6b4e8"
      },
      "execution_count": 1,
      "outputs": [
        {
          "output_type": "stream",
          "name": "stdout",
          "text": [
            "Yes\n"
          ]
        }
      ]
    },
    {
      "cell_type": "code",
      "source": [
        "#Write a code to t that checks if a function handles floating-point calculations accurately.\n",
        "import pandas as pd\n",
        "import numpy as np\n",
        "\n",
        "x = 6.5\n",
        "y = 4.5\n",
        "z = x*y\n",
        "\n",
        "if z == 30.01:\n",
        " print(\"float is accurate\")\n",
        "else:\n",
        "  print(\"float is not accurate\")"
      ],
      "metadata": {
        "colab": {
          "base_uri": "https://localhost:8080/"
        },
        "id": "7v2ENBx8Aisz",
        "outputId": "d9a2d0cd-c4d9-47ee-fb31-161c200d85ad"
      },
      "execution_count": 14,
      "outputs": [
        {
          "output_type": "stream",
          "name": "stdout",
          "text": [
            "float is not accurate\n"
          ]
        }
      ]
    }
  ]
}