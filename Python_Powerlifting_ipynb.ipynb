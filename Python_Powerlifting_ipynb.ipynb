{
  "nbformat": 4,
  "nbformat_minor": 0,
  "metadata": {
    "colab": {
      "provenance": [],
      "authorship_tag": "ABX9TyOQj7ZK2KjBNGR1vBkidZ1G",
      "include_colab_link": true
    },
    "kernelspec": {
      "name": "python3",
      "display_name": "Python 3"
    },
    "language_info": {
      "name": "python"
    }
  },
  "cells": [
    {
      "cell_type": "markdown",
      "metadata": {
        "id": "view-in-github",
        "colab_type": "text"
      },
      "source": [
        "<a href=\"https://colab.research.google.com/github/aswini-training/python/blob/main/Python_Powerlifting_ipynb.ipynb\" target=\"_parent\"><img src=\"https://colab.research.google.com/assets/colab-badge.svg\" alt=\"Open In Colab\"/></a>"
      ]
    },
    {
      "cell_type": "code",
      "execution_count": null,
      "metadata": {
        "colab": {
          "base_uri": "https://localhost:8080/"
        },
        "id": "wLF8okuRtGq8",
        "outputId": "c3c2d378-5cfe-4d2b-cfc4-eec7afeff18a"
      },
      "outputs": [
        {
          "output_type": "stream",
          "name": "stdout",
          "text": [
            "Drive already mounted at /content/drive; to attempt to forcibly remount, call drive.mount(\"/content/drive\", force_remount=True).\n"
          ]
        },
        {
          "output_type": "stream",
          "name": "stderr",
          "text": [
            "<ipython-input-30-d878c0615685>:6: DtypeWarning: Columns (35,38) have mixed types. Specify dtype option on import or set low_memory=False.\n",
            "  df = pd.read_csv(\"/content/drive/MyDrive/dataset/dataset_csv/dataset-powerlifting-csv/openpowerlifting-2021-12-10-b420db66.csv\", dtype = dtype_dict)\n"
          ]
        },
        {
          "output_type": "stream",
          "name": "stdout",
          "text": [
            "Total Men Count for CA: 32456\n",
            "Top 10 States for Men:\n",
            "State\n",
            "CA    32456\n",
            "TX    23517\n",
            "OH    11486\n",
            "FL    11341\n",
            "PA    10857\n",
            "NC    10510\n",
            "NY     9523\n",
            "VA     9312\n",
            "ON     9052\n",
            "AZ     7632\n",
            "dtype: int64\n"
          ]
        }
      ],
      "source": [
        "import pandas as pd\n",
        "import numpy as np\n",
        "from google.colab import drive\n",
        "drive.mount('/content/drive')\n",
        "dtype_dict = {'Sex': 'str', 'State': 'str'}\n",
        "df = pd.read_csv(\"/content/drive/MyDrive/dataset/dataset_csv/dataset-powerlifting-csv/openpowerlifting-2021-12-10-b420db66.csv\", dtype = dtype_dict)\n",
        "men_df = df[df['Sex'] == 'M']\n",
        "men_by_state = men_df.groupby('State').size()\n",
        "sorted_states = men_by_state.sort_values(ascending=False)\n",
        "top_10_states = sorted_states.head(10)\n",
        "print(\"Top 10 States for Men:\")\n",
        "print(top_10_states)\n"
      ]
    },
    {
      "cell_type": "code",
      "source": [
        "#pie chart and bar chart for Men Top 20-30 states.\n",
        "\n",
        "import seaborn as sns\n",
        "import pandas as pd\n",
        "import matplotlib.pyplot as plt\n",
        "from warnings import filterwarnings\n",
        "from google.colab import drive\n",
        "drive.mount('/content/drive')\n",
        "df = pd.read_csv('/content/drive/MyDrive/dataset/dataset_csv/dataset-powerlifting-csv/openpowerlifting-2021-12-10-b420db66.csv')\n",
        "men_df = df[df['Sex'] == 'M']\n",
        "men_by_state = men_df.groupby('State').size()\n",
        "sorted_states = men_by_state.sort_values(ascending=False)\n",
        "top_20_to_30_states = sorted_states.iloc[19:29]\n",
        "print(top_20_to_30_states)\n",
        "\n",
        "#creating a bar graph using Seaborn:\n",
        "sns.barplot(x=top_20_to_30_states.index, y=top_20_to_30_states.values, palette='bright')\n",
        "plt.xlabel('State')\n",
        "plt.ylabel('Number of Men')\n",
        "plt.title('Top 20 to 30 States')\n",
        "plt.show()\n"
      ],
      "metadata": {
        "id": "xO-hq8Nh6vg9"
      },
      "execution_count": null,
      "outputs": []
    },
    {
      "cell_type": "code",
      "source": [
        "#creating pie chart using Matplotlib\n",
        "\n",
        "import pandas as pd\n",
        "import matplotlib.pyplot as plt\n",
        "from warnings import filterwarnings\n",
        "from google.colab import drive\n",
        "drive.mount('/content/drive')\n",
        "df = pd.read_csv('/content/drive/MyDrive/dataset/dataset_csv/dataset-powerlifting-csv/openpowerlifting-2021-12-10-b420db66.csv')\n",
        "men_df = df[df['Sex'] == 'M']\n",
        "men_by_state = men_df.groupby('State').size()\n",
        "sorted_states = men_by_state.sort_values(ascending=False)\n",
        "top_20_to_30_states = sorted_states.iloc[19:29]\n",
        "plt.pie(top_20_to_30_states, labels=top_20_to_30_states.index, autopct='%1.0f%%')\n",
        "plt.title('Top 20 to 30 States')\n",
        "plt.show()\n"
      ],
      "metadata": {
        "id": "ttgrtRAq60D-"
      },
      "execution_count": null,
      "outputs": []
    },
    {
      "cell_type": "code",
      "source": [
        "#Top 10 states for Men in year 2021 (Use Custom Function)\n",
        "import pandas as pd\n",
        "import numpy as np\n",
        "from warnings import filterwarnings\n",
        "from google.colab import drive\n",
        "drive.mount('/content/drive')\n",
        "df = pd.read_csv(\"/content/drive/MyDrive/dataset/dataset_csv/dataset-powerlifting-csv/openpowerlifting-2021-12-10-b420db66.csv\")\n",
        "men_df = df[df['Sex'] == 'M']\n",
        "#extracting year from Date column.\n",
        "men_df['year'] = pd.DatetimeIndex(men_df['Date']).year\n",
        "#print(\"Get the year from the date column:\\n\", df)\n",
        "men_by_state = men_df.groupby(['State', 'year' ]).size().reset_index(name='count')\n",
        "men_2021 = men_by_state.loc[men_by_state['year'] == 2021]\n",
        "top_10_states = men_2021.sort_values(by='count',ascending=False).head(10)\n",
        "print(\"Top 10 States for Men in 2021:\")\n",
        "print(top_10_states)\n"
      ],
      "metadata": {
        "id": "jM8rZlnm66mz"
      },
      "execution_count": null,
      "outputs": []
    }
  ]
}