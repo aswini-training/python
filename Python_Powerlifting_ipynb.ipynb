{
  "nbformat": 4,
  "nbformat_minor": 0,
  "metadata": {
    "colab": {
      "provenance": [],
      "authorship_tag": "ABX9TyMJETNnTzl8TYwRiwtIV/Fj",
      "include_colab_link": true
    },
    "kernelspec": {
      "name": "python3",
      "display_name": "Python 3"
    },
    "language_info": {
      "name": "python"
    }
  },
  "cells": [
    {
      "cell_type": "markdown",
      "metadata": {
        "id": "view-in-github",
        "colab_type": "text"
      },
      "source": [
        "<a href=\"https://colab.research.google.com/github/aswini-training/python/blob/main/Python_Powerlifting_ipynb.ipynb\" target=\"_parent\"><img src=\"https://colab.research.google.com/assets/colab-badge.svg\" alt=\"Open In Colab\"/></a>"
      ]
    },
    {
      "cell_type": "code",
      "execution_count": null,
      "metadata": {
        "colab": {
          "base_uri": "https://localhost:8080/"
        },
        "id": "wLF8okuRtGq8",
        "outputId": "c3c2d378-5cfe-4d2b-cfc4-eec7afeff18a"
      },
      "outputs": [
        {
          "output_type": "stream",
          "name": "stdout",
          "text": [
            "Drive already mounted at /content/drive; to attempt to forcibly remount, call drive.mount(\"/content/drive\", force_remount=True).\n"
          ]
        },
        {
          "output_type": "stream",
          "name": "stderr",
          "text": [
            "<ipython-input-30-d878c0615685>:6: DtypeWarning: Columns (35,38) have mixed types. Specify dtype option on import or set low_memory=False.\n",
            "  df = pd.read_csv(\"/content/drive/MyDrive/dataset/dataset_csv/dataset-powerlifting-csv/openpowerlifting-2021-12-10-b420db66.csv\", dtype = dtype_dict)\n"
          ]
        },
        {
          "output_type": "stream",
          "name": "stdout",
          "text": [
            "Total Men Count for CA: 32456\n",
            "Top 10 States for Men:\n",
            "State\n",
            "CA    32456\n",
            "TX    23517\n",
            "OH    11486\n",
            "FL    11341\n",
            "PA    10857\n",
            "NC    10510\n",
            "NY     9523\n",
            "VA     9312\n",
            "ON     9052\n",
            "AZ     7632\n",
            "dtype: int64\n"
          ]
        }
      ],
      "source": [
        "import pandas as pd\n",
        "import numpy as np\n",
        "from google.colab import drive\n",
        "drive.mount('/content/drive')\n",
        "dtype_dict = {'Sex': 'str', 'State': 'str'}\n",
        "df = pd.read_csv(\"/content/drive/MyDrive/dataset/dataset_csv/dataset-powerlifting-csv/openpowerlifting-2021-12-10-b420db66.csv\", dtype = dtype_dict)\n",
        "men_df = df[df['Sex'] == 'M']\n",
        "men_by_state = men_df.groupby('State').size()\n",
        "sorted_states = men_by_state.sort_values(ascending=False)\n",
        "top_10_states = sorted_states.head(10)\n",
        "print(\"Top 10 States for Men:\")\n",
        "print(top_10_states)\n"
      ]
    }
  ]
}