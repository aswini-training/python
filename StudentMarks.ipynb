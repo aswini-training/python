{
  "nbformat": 4,
  "nbformat_minor": 0,
  "metadata": {
    "colab": {
      "provenance": [],
      "authorship_tag": "ABX9TyOjr51x1nLP5C+CDharQfnC",
      "include_colab_link": true
    },
    "kernelspec": {
      "name": "python3",
      "display_name": "Python 3"
    },
    "language_info": {
      "name": "python"
    }
  },
  "cells": [
    {
      "cell_type": "markdown",
      "metadata": {
        "id": "view-in-github",
        "colab_type": "text"
      },
      "source": [
        "<a href=\"https://colab.research.google.com/github/aswini-training/python/blob/main/StudentMarks.ipynb\" target=\"_parent\"><img src=\"https://colab.research.google.com/assets/colab-badge.svg\" alt=\"Open In Colab\"/></a>"
      ]
    },
    {
      "cell_type": "code",
      "execution_count": 27,
      "metadata": {
        "colab": {
          "base_uri": "https://localhost:8080/"
        },
        "id": "Ufg3lo-zgKK0",
        "outputId": "17e2b7e7-46af-4b0d-e4d2-bae58316bef2"
      },
      "outputs": [
        {
          "output_type": "stream",
          "name": "stdout",
          "text": [
            "180\n",
            "270\n",
            "225\n"
          ]
        }
      ],
      "source": [
        "def students(Sub1, Sub2, Sub3):\n",
        "    studentsmark = (Sub1, Sub2, Sub3)\n",
        "    total = sum(studentsmark)\n",
        "    #return total\n",
        "    print(total)\n",
        "\n",
        "students(50,60,70)\n",
        "students(80,90,100)\n",
        "students(65,75,85)\n",
        ""
      ]
    }
  ]
}