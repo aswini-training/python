{
  "nbformat": 4,
  "nbformat_minor": 0,
  "metadata": {
    "colab": {
      "provenance": [],
      "authorship_tag": "ABX9TyPS50eupjaCC4/LC4TlYRR9",
      "include_colab_link": true
    },
    "kernelspec": {
      "name": "python3",
      "display_name": "Python 3"
    },
    "language_info": {
      "name": "python"
    }
  },
  "cells": [
    {
      "cell_type": "markdown",
      "metadata": {
        "id": "view-in-github",
        "colab_type": "text"
      },
      "source": [
        "<a href=\"https://colab.research.google.com/github/aswini-training/python/blob/main/Sum_function_using_3_students_marks.ipynb\" target=\"_parent\"><img src=\"https://colab.research.google.com/assets/colab-badge.svg\" alt=\"Open In Colab\"/></a>"
      ]
    },
    {
      "cell_type": "code",
      "execution_count": 127,
      "metadata": {
        "id": "kNqQpGFf_x3n",
        "colab": {
          "base_uri": "https://localhost:8080/"
        },
        "outputId": "daa08d50-b3fe-462c-802d-10df027f790c"
      },
      "outputs": [
        {
          "output_type": "stream",
          "name": "stdout",
          "text": [
            "190 213 133\n"
          ]
        }
      ],
      "source": [
        "import pandas as pd\n",
        "import numpy as np\n",
        "def calculation_of_marks(Eng, Tamil, Math):#parameters\n",
        "  return Eng + Tamil + Math\n",
        "\n",
        "def student():\n",
        "  student1 = [82,30,78]\n",
        "  student2 = [75,45,93]\n",
        "  student3 = [45,23,65]\n",
        "  total1 = calculation_of_marks(*student1)\n",
        "  total2 = calculation_of_marks(*student2)\n",
        "  total3 = calculation_of_marks(*student3)\n",
        "  print(total1, total2, total3)\n",
        "\n",
        "\n",
        "student()\n",
        "\n",
        "\n"
      ]
    }
  ]
}