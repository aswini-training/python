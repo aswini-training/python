{
  "nbformat": 4,
  "nbformat_minor": 0,
  "metadata": {
    "colab": {
      "provenance": [],
      "authorship_tag": "ABX9TyPAhsbIRlNz4mDIzZVIF9WD",
      "include_colab_link": true
    },
    "kernelspec": {
      "name": "python3",
      "display_name": "Python 3"
    },
    "language_info": {
      "name": "python"
    }
  },
  "cells": [
    {
      "cell_type": "markdown",
      "metadata": {
        "id": "view-in-github",
        "colab_type": "text"
      },
      "source": [
        "<a href=\"https://colab.research.google.com/github/aswini-training/python/blob/main/Untitled0.ipynb\" target=\"_parent\"><img src=\"https://colab.research.google.com/assets/colab-badge.svg\" alt=\"Open In Colab\"/></a>"
      ]
    },
    {
      "cell_type": "code",
      "execution_count": null,
      "metadata": {
        "colab": {
          "base_uri": "https://localhost:8080/"
        },
        "id": "m_0Gd6OW2GEa",
        "outputId": "11a99fb3-bbce-498a-ad41-24e422c28bf2"
      },
      "outputs": [
        {
          "output_type": "stream",
          "name": "stdout",
          "text": [
            "Does Student Exists Y/N:Y\n",
            "Student Name:Sundar\n",
            "English Mark: 10\n",
            "Tamil Mark: 20\n",
            "MathMark: 30\n",
            "got the values\n",
            "60\n",
            "getting out of this function\n",
            "60\n"
          ]
        }
      ],
      "source": [
        "#def subject(Eng,Tamil, Math):\n",
        "#    Total = (Eng, Tamil, Math)\n",
        "#    Value = sum(Total)\n",
        "#    return Value\n",
        "    #print(Total)\n",
        "\n",
        "def Student1(EngMark, TamilMark, MathMark):\n",
        "    #Marks = subject(mark1, mark2, mark3)\n",
        "    print(\"got the values\")\n",
        "    SubMarks = (EngMark, TamilMark, MathMark)\n",
        "    TotalMarks=sum(SubMarks)\n",
        "    print(TotalMarks)\n",
        "    print(\"getting out of this function\")\n",
        "    return TotalMarks\n",
        "\n",
        "StudentExists = input(\"Does Student Exists Y/N:\")\n",
        "\n",
        "while StudentExists == \"Y\":\n",
        "    StudentName = input(\"Student Name:\")\n",
        "    EngMark= int(input(\"English Mark: \"))\n",
        "    TamilMark = int(input (\"Tamil Mark: \"))\n",
        "    MathMark = int(input (\"MathMark: \"))\n",
        "    TotalMark = Student1(EngMark, TamilMark, MathMark)\n",
        "    print(TotalMark)\n",
        "    StudentExists = input(\"Y/N:\")\n",
        "else:\n",
        "    print(\"No More students\")\n",
        "\n"
      ]
    }
  ]
}