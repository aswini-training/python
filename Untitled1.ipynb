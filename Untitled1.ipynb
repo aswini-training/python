{
  "nbformat": 4,
  "nbformat_minor": 0,
  "metadata": {
    "colab": {
      "provenance": [],
      "authorship_tag": "ABX9TyNCbzIL/M4wDH9aR4tccoGF",
      "include_colab_link": true
    },
    "kernelspec": {
      "name": "python3",
      "display_name": "Python 3"
    },
    "language_info": {
      "name": "python"
    }
  },
  "cells": [
    {
      "cell_type": "markdown",
      "metadata": {
        "id": "view-in-github",
        "colab_type": "text"
      },
      "source": [
        "<a href=\"https://colab.research.google.com/github/aswini-training/python/blob/main/Untitled1.ipynb\" target=\"_parent\"><img src=\"https://colab.research.google.com/assets/colab-badge.svg\" alt=\"Open In Colab\"/></a>"
      ]
    },
    {
      "cell_type": "code",
      "execution_count": 1,
      "metadata": {
        "colab": {
          "base_uri": "https://localhost:8080/"
        },
        "id": "kNqQpGFf_x3n",
        "outputId": "5c371204-732b-4068-aa4a-6fea5e81e304"
      },
      "outputs": [
        {
          "output_type": "stream",
          "name": "stdout",
          "text": [
            "Sum of marks for Student 1: 267\n",
            "Sum of marks for Student 2: 268\n",
            "Sum of marks for Student 3: 271\n"
          ]
        }
      ],
      "source": [
        "def calculate_sum_of_marks(student_marks):\n",
        "    return sum(student_marks)\n",
        "student1_marks = [90, 85, 92]\n",
        "student2_marks = [88, 89, 91]\n",
        "student3_marks = [95, 87, 89]\n",
        "sum_student1 = calculate_sum_of_marks(student1_marks)\n",
        "sum_student2 = calculate_sum_of_marks(student2_marks)\n",
        "sum_student3 = calculate_sum_of_marks(student3_marks)\n",
        "print(f\"Sum of marks for Student 1: {sum_student1}\")\n",
        "print(f\"Sum of marks for Student 2: {sum_student2}\")\n",
        "print(f\"Sum of marks for Student 3: {sum_student3}\")"
      ]
    }
  ]
}