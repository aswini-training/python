{
  "nbformat": 4,
  "nbformat_minor": 0,
  "metadata": {
    "colab": {
      "provenance": [],
      "authorship_tag": "ABX9TyOEcPmeCh8vaWmoYtTyTq2L",
      "include_colab_link": true
    },
    "kernelspec": {
      "name": "python3",
      "display_name": "Python 3"
    },
    "language_info": {
      "name": "python"
    }
  },
  "cells": [
    {
      "cell_type": "markdown",
      "metadata": {
        "id": "view-in-github",
        "colab_type": "text"
      },
      "source": [
        "<a href=\"https://colab.research.google.com/github/aswini-training/python/blob/main/Untitled1.ipynb\" target=\"_parent\"><img src=\"https://colab.research.google.com/assets/colab-badge.svg\" alt=\"Open In Colab\"/></a>"
      ]
    },
    {
      "cell_type": "code",
      "execution_count": 23,
      "metadata": {
        "id": "kNqQpGFf_x3n"
      },
      "outputs": [],
      "source": [
        "def students (Student1, Student2, Student3):\n",
        "  return Student1+Student2+Student3\n",
        "  students(Student1=x)\n",
        "  students(Student2=y)\n",
        "  students(Student3=z)\n",
        "  print(students (40, 30, 10))\n"
      ]
    }
  ]
}