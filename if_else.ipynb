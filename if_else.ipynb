{
  "nbformat": 4,
  "nbformat_minor": 0,
  "metadata": {
    "colab": {
      "provenance": [],
      "authorship_tag": "ABX9TyNS24gKMJyvZkEFd6tnGmRX",
      "include_colab_link": true
    },
    "kernelspec": {
      "name": "python3",
      "display_name": "Python 3"
    },
    "language_info": {
      "name": "python"
    }
  },
  "cells": [
    {
      "cell_type": "markdown",
      "metadata": {
        "id": "view-in-github",
        "colab_type": "text"
      },
      "source": [
        "<a href=\"https://colab.research.google.com/github/aswini-training/python/blob/main/if_else.ipynb\" target=\"_parent\"><img src=\"https://colab.research.google.com/assets/colab-badge.svg\" alt=\"Open In Colab\"/></a>"
      ]
    },
    {
      "cell_type": "code",
      "execution_count": null,
      "metadata": {
        "colab": {
          "base_uri": "https://localhost:8080/"
        },
        "id": "RO22Cv7CYc5a",
        "outputId": "b284ad5b-e3ea-4417-a5f9-2544261fbf25"
      },
      "outputs": [
        {
          "output_type": "stream",
          "name": "stdout",
          "text": [
            "Enter the student's score: 50.8\n",
            "The student's grade is: F\n"
          ]
        }
      ],
      "source": [
        "import pandas as pd\n",
        "import numpy as np\n",
        "\n",
        "s\\core = float(input(\"Enter the student's score: \"))\n",
        "\n",
        "if score >= 90:\n",
        "    grade = 'A'\n",
        "elif score >= 80:\n",
        "    grade = 'B'\n",
        "elif score >= 70:\n",
        "    grade = 'C'\n",
        "elif score >= 60:\n",
        "    grade = 'D'\n",
        "else:\n",
        "    grade = 'F'\n",
        "print(f\"The student's grade is: {grade}\")"
      ]
    },
    {
      "cell_type": "code",
      "source": [
        "#if program using logical operators and, or and not:\n",
        "\n",
        "import pandas as pd\n",
        "import numpy as np\n",
        "temperature = 45\n",
        "time_of_day = \"morning\"\n",
        "day = \"afternoon\"\n",
        "if temperature > 20 and day == \"afternoon\":\n",
        "    print(\"It's a pleasant afternoon.\")\n",
        "elif time_of_day == \"morning\":\n",
        "    print(\"It's a pleasant morning.\")"
      ],
      "metadata": {
        "colab": {
          "base_uri": "https://localhost:8080/"
        },
        "id": "xTg4Qx5AY1Ik",
        "outputId": "c7d23424-a424-40fd-f7b6-509938a05678"
      },
      "execution_count": null,
      "outputs": [
        {
          "output_type": "stream",
          "name": "stdout",
          "text": [
            "It's a pleasant afternoon.\n"
          ]
        }
      ]
    },
    {
      "cell_type": "code",
      "source": [
        "#The not keyword is a logical operator, and is used to reverse the result of the conditional statement:\n",
        "import pandas as pd\n",
        "import numpy as np\n",
        "\n",
        "number = int(input(\"Enter a number: \"))\n",
        "\n",
        "# Check if the number is not equal to zero\n",
        "if not number == 0:\n",
        "    print(f\"The number {number} is not zero.\")\n",
        "else:\n",
        "    print(\"The number is zero.\")\n"
      ],
      "metadata": {
        "colab": {
          "base_uri": "https://localhost:8080/"
        },
        "id": "4TKbgsmua2CK",
        "outputId": "e5dcbbfc-e5d1-403e-b3d2-d2691a9dc0f2"
      },
      "execution_count": null,
      "outputs": [
        {
          "output_type": "stream",
          "name": "stdout",
          "text": [
            "Enter a number: 0\n",
            "The number is zero.\n"
          ]
        }
      ]
    },
    {
      "cell_type": "code",
      "source": [
        "#if: pass statement\n",
        "#if statements cannot be empty, but if you for some reason have an if statement with no content, put in the pass statement to avoid getting an error.\n",
        "import pandas as pd\n",
        "import numpy as np\n",
        "a = 33\n",
        "b = 200\n",
        "\n",
        "if b > a:\n",
        "  pass"
      ],
      "metadata": {
        "id": "GWmdz-B0kYWA"
      },
      "execution_count": 38,
      "outputs": []
    }
  ]
}