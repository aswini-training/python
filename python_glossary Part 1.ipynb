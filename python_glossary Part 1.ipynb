{
  "nbformat": 4,
  "nbformat_minor": 0,
  "metadata": {
    "colab": {
      "provenance": [],
      "authorship_tag": "ABX9TyPHFJgyd3yHgimdRHvqljQ4",
      "include_colab_link": true
    },
    "kernelspec": {
      "name": "python3",
      "display_name": "Python 3"
    },
    "language_info": {
      "name": "python"
    }
  },
  "cells": [
    {
      "cell_type": "markdown",
      "metadata": {
        "id": "view-in-github",
        "colab_type": "text"
      },
      "source": [
        "<a href=\"https://colab.research.google.com/github/aswini-training/python/blob/main/python_glossary%20Part%201.ipynb\" target=\"_parent\"><img src=\"https://colab.research.google.com/assets/colab-badge.svg\" alt=\"Open In Colab\"/></a>"
      ]
    },
    {
      "cell_type": "code",
      "execution_count": 3,
      "metadata": {
        "colab": {
          "base_uri": "https://localhost:8080/"
        },
        "id": "AD-ZCeII6s0Q",
        "outputId": "fcdadce5-706a-40e0-abb3-d80ec8150914"
      },
      "outputs": [
        {
          "output_type": "stream",
          "name": "stdout",
          "text": [
            "Hello, Valli!\n",
            "You are 25 years old.\n",
            "You live in Chennai.\n",
            "Welcome to Chennai!\n"
          ]
        }
      ],
      "source": [
        "\"\"\"\n",
        "This is a multiline comment.\n",
        "It provides additional information about the program.\n",
        "\"\"\"\n",
        "\n",
        "# Creating variables and assigning values\n",
        "name = \"Valli\"\n",
        "age = 25\n",
        "city = \"Chennai\"\n",
        "\n",
        "# Outputting variables\n",
        "print(\"Hello, \" + name + \"!\")\n",
        "print(\"You are \" + str(age) + \" years old.\")\n",
        "print(\"You live in \" + city + \".\")\n",
        "\n",
        "# String concatenation - If we give string and number in concatenation it will give a error.\n",
        "greeting = \"Welcome to \" + city + \"!\"\n",
        "print(greeting)\n"
      ]
    },
    {
      "cell_type": "code",
      "source": [
        "# global variables\n",
        "#Variables that are created outside of a function are known as global variables.\n",
        "var = \"happy birthday\"\n",
        "def myfun():\n",
        "  print(var)\n",
        "myfun()\n"
      ],
      "metadata": {
        "colab": {
          "base_uri": "https://localhost:8080/"
        },
        "id": "zsRUOZPcACiN",
        "outputId": "cd72a854-4b78-46a1-c5eb-0321c2f37e1f"
      },
      "execution_count": 7,
      "outputs": [
        {
          "output_type": "stream",
          "name": "stdout",
          "text": [
            "happy birthday\n"
          ]
        }
      ]
    },
    {
      "cell_type": "code",
      "source": [
        "#global variable - If you create a variable with the same name inside a function, this variable will be local, and can only be used inside the function.\n",
        "#space should be given within double quotes for creating variables so that the output come with a space.\n",
        "name = \" Hema \"\n",
        "def myfunc():\n",
        "  name = \" Krishna \"\n",
        "  print(\"My name is\" + name)\n",
        "myfunc()\n",
        "print(\"My name is\"+ name)"
      ],
      "metadata": {
        "colab": {
          "base_uri": "https://localhost:8080/"
        },
        "id": "3tT7jc6NAyr4",
        "outputId": "123d26a1-f6fc-472f-874b-30b85b126d1a"
      },
      "execution_count": 13,
      "outputs": [
        {
          "output_type": "stream",
          "name": "stdout",
          "text": [
            "My name is Krishna \n",
            "My name is Hema \n"
          ]
        }
      ]
    },
    {
      "cell_type": "code",
      "source": [
        "#using the keyword global - global variable\n",
        "\"\"\"\n",
        "Python global keyword allows the user to define a variable globally whose value can be modified outside the current scope.\n",
        "e.g. changes name value inside function.\n",
        "\"\"\"\n",
        "name = \" Hari \"\n",
        "def myfunc():\n",
        "  global name\n",
        "  name = \" Krishna \"\n",
        "myfunc()\n",
        "print(\"My name is\"+ name)"
      ],
      "metadata": {
        "colab": {
          "base_uri": "https://localhost:8080/"
        },
        "id": "c54pt8z_DYsE",
        "outputId": "2d9b0521-0e95-4b9d-d0b5-2b36371e0bef"
      },
      "execution_count": 20,
      "outputs": [
        {
          "output_type": "stream",
          "name": "stdout",
          "text": [
            "My name is Krishna \n"
          ]
        }
      ]
    },
    {
      "cell_type": "code",
      "source": [
        "# Text type: str\n",
        "name = \"John\"\n",
        "print(\"Hello, \" + name + \"!\")\n",
        "\n",
        "# Numeric types: int, float\n",
        "num1 = 5\n",
        "num2 = 2.5\n",
        "result = num1 + num2\n",
        "print(\"The result of adding\", num1, \"and\", num2, \"is:\", result)\n",
        "\n",
        "# Sequence types: list, tuple\n",
        "my_list = [1, 2, 3, 4, 5]\n",
        "my_tuple = (6, 7, 8, 9, 10)\n",
        "print(\"List:\", my_list)\n",
        "print(\"Tuple:\", my_tuple)\n",
        "\n",
        "# Dictionary: dict\n",
        "my_dict = {\"name\": \"Ajay\", \"age\": 11, \"city\": \"Chennai\"}\n",
        "print(\"Dictionary:\", my_dict)\n",
        "\n",
        "# Set: set\n",
        "my_set = {1, 2, 3, 4, 5}\n",
        "print(\"Set:\", my_set)\n",
        "\n",
        "# Boolean: bool\n",
        "# Any string is True, except empty strings.\n",
        "#Any number is True, except 0.\n",
        "#Any list, tuple, set, and dictionary are True, except empty ones.\n",
        "\n",
        "is_adult = True\n",
        "is_student = False\n",
        "print(\"Is an adult?\", is_adult)\n",
        "print(\"Is a student?\", is_student)"
      ],
      "metadata": {
        "colab": {
          "base_uri": "https://localhost:8080/"
        },
        "id": "pnwjJJbUIjl4",
        "outputId": "d4a8b0c4-33c2-4ad6-a644-494487d70c4f"
      },
      "execution_count": 22,
      "outputs": [
        {
          "output_type": "stream",
          "name": "stdout",
          "text": [
            "Hello, John!\n",
            "The result of adding 5 and 2.5 is: 7.5\n",
            "List: [1, 2, 3, 4, 5]\n",
            "Tuple: (6, 7, 8, 9, 10)\n",
            "Dictionary: {'name': 'Ajay', 'age': 11, 'city': 'Chennai'}\n",
            "Set: {1, 2, 3, 4, 5}\n",
            "Is an adult? True\n",
            "Is a student? False\n"
          ]
        }
      ]
    },
    {
      "cell_type": "code",
      "source": [
        "#In Python, the range type is used to represent a range of numbers. It's commonly used in for loops to iterate over a sequence of numbers.\n",
        "#e.g.\n",
        "for i in range(5):\n",
        "  print(i)\n",
        "\n",
        "print(type(\"Good Morning\"))\n",
        "print(type(7))\n",
        "print(type(31.13))\n",
        "print(type(1j))\n",
        "print(type([\"apple\", \"banana\", \"cherry\"]))\n",
        "print(type((\"apple\", \"banana\", \"cherry\")))\n",
        "print(type(range(6)))\n",
        "print(type({\"name\" : \"John\", \"age\" : 36}))\n",
        "print(type({\"apple\", \"banana\", \"cherry\"}))\n",
        "print(type(frozenset({\"apple\", \"banana\", \"cherry\"})))\n",
        "print(type(True))\n",
        "print(type(b\"Hello\"))\n",
        "\n"
      ],
      "metadata": {
        "colab": {
          "base_uri": "https://localhost:8080/"
        },
        "id": "RcxWQhaJKQUV",
        "outputId": "2f33a76b-20d5-40b1-fb2a-f8509e9a1bdd"
      },
      "execution_count": 24,
      "outputs": [
        {
          "output_type": "stream",
          "name": "stdout",
          "text": [
            "0\n",
            "1\n",
            "2\n",
            "3\n",
            "4\n",
            "<class 'str'>\n",
            "<class 'int'>\n",
            "<class 'float'>\n",
            "<class 'complex'>\n",
            "<class 'list'>\n",
            "<class 'tuple'>\n",
            "<class 'range'>\n",
            "<class 'dict'>\n",
            "<class 'set'>\n",
            "<class 'frozenset'>\n",
            "<class 'bool'>\n",
            "<class 'bytes'>\n"
          ]
        }
      ]
    },
    {
      "cell_type": "code",
      "source": [
        "#program for setting a value for data type and getting a output to know the datatype for the value\n",
        "\n",
        "# Integer\n",
        "my_integer = 42\n",
        "\n",
        "# Float\n",
        "my_float = 3.14\n",
        "\n",
        "# String\n",
        "my_string = \"Hello, Python!\"\n",
        "\n",
        "# List\n",
        "my_list = [1, 2, 3, 4, 5]\n",
        "\n",
        "# Tuple\n",
        "my_tuple = (10, 20, 30)\n",
        "\n",
        "# Dictionary\n",
        "my_dict = {'name': 'John', 'age': 25, 'city': 'New York'}\n",
        "\n",
        "# Set\n",
        "my_set = {1, 2, 3, 4, 5}\n",
        "\n",
        "# Frozen Set\n",
        "my_frozen_set = frozenset({6, 7, 8, 9, 10})\n",
        "\n",
        "# Boolean\n",
        "my_boolean = True\n",
        "\n",
        "# Byte\n",
        "my_byte = b'hello'\n",
        "\n",
        "# Range\n",
        "my_range = range(5)\n",
        "\n",
        "# Complex\n",
        "my_complex = 2 + 3j\n",
        "\n",
        "# Bytearray\n",
        "my_bytearray = bytearray([65, 66, 67])\n",
        "\n",
        "# Memoryview\n",
        "my_memoryview = memoryview(b'Hello')\n",
        "\n",
        "# Displaying the values and types\n",
        "print(my_integer, type(my_integer))\n",
        "print(my_float, type(my_float))\n",
        "print(my_string, type(my_string))\n",
        "print(my_list, type(my_list))\n",
        "print(my_tuple, type(my_tuple))\n",
        "print(my_dict, type(my_dict))\n",
        "print(my_set, type(my_set))\n",
        "print(my_frozen_set, type(my_frozen_set))\n",
        "print(my_boolean, type(my_boolean))\n",
        "print(my_byte, type(my_byte))\n",
        "print(my_range, type(my_range))\n",
        "print(my_complex, type(my_complex))\n",
        "print(my_bytearray, type(my_bytearray))\n",
        "print(my_memoryview, type(my_memoryview))"
      ],
      "metadata": {
        "colab": {
          "base_uri": "https://localhost:8080/"
        },
        "id": "hBARpZMzNNPE",
        "outputId": "9c6dc028-0b0b-42a4-f0f3-3d1bb73b5757"
      },
      "execution_count": 25,
      "outputs": [
        {
          "output_type": "stream",
          "name": "stdout",
          "text": [
            "42 <class 'int'>\n",
            "3.14 <class 'float'>\n",
            "Hello, Python! <class 'str'>\n",
            "[1, 2, 3, 4, 5] <class 'list'>\n",
            "(10, 20, 30) <class 'tuple'>\n",
            "{'name': 'John', 'age': 25, 'city': 'New York'} <class 'dict'>\n",
            "{1, 2, 3, 4, 5} <class 'set'>\n",
            "frozenset({6, 7, 8, 9, 10}) <class 'frozenset'>\n",
            "True <class 'bool'>\n",
            "b'hello' <class 'bytes'>\n",
            "range(0, 5) <class 'range'>\n",
            "(2+3j) <class 'complex'>\n",
            "bytearray(b'ABC') <class 'bytearray'>\n",
            "<memory at 0x7ef0963bd6c0> <class 'memoryview'>\n"
          ]
        }
      ]
    }
  ]
}